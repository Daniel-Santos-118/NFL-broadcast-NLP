{
  "nbformat": 4,
  "nbformat_minor": 0,
  "metadata": {
    "colab": {
      "provenance": []
    },
    "kernelspec": {
      "name": "python3",
      "display_name": "Python 3"
    },
    "language_info": {
      "name": "python"
    },
    "widgets": {
      "application/vnd.jupyter.widget-state+json": {
        "3542bc282e2d4daa9e288c0e0002b2da": {
          "model_module": "@jupyter-widgets/controls",
          "model_name": "HBoxModel",
          "model_module_version": "1.5.0",
          "state": {
            "_dom_classes": [],
            "_model_module": "@jupyter-widgets/controls",
            "_model_module_version": "1.5.0",
            "_model_name": "HBoxModel",
            "_view_count": null,
            "_view_module": "@jupyter-widgets/controls",
            "_view_module_version": "1.5.0",
            "_view_name": "HBoxView",
            "box_style": "",
            "children": [
              "IPY_MODEL_71f6fcc643f544b8a99102a1ea3e8a35",
              "IPY_MODEL_3461d38c452540859aaba96d08690df1",
              "IPY_MODEL_6cd083343f5f40cea4da9ba47583ba0e"
            ],
            "layout": "IPY_MODEL_af040e3384be4ca1a173c3f92c4086cd"
          }
        },
        "71f6fcc643f544b8a99102a1ea3e8a35": {
          "model_module": "@jupyter-widgets/controls",
          "model_name": "HTMLModel",
          "model_module_version": "1.5.0",
          "state": {
            "_dom_classes": [],
            "_model_module": "@jupyter-widgets/controls",
            "_model_module_version": "1.5.0",
            "_model_name": "HTMLModel",
            "_view_count": null,
            "_view_module": "@jupyter-widgets/controls",
            "_view_module_version": "1.5.0",
            "_view_name": "HTMLView",
            "description": "",
            "description_tooltip": null,
            "layout": "IPY_MODEL_7a3993bf9f1342e28531c4a397444b50",
            "placeholder": "​",
            "style": "IPY_MODEL_4882de6e7bdb4871827a11e0367c449f",
            "value": "tokenizer_config.json: 100%"
          }
        },
        "3461d38c452540859aaba96d08690df1": {
          "model_module": "@jupyter-widgets/controls",
          "model_name": "FloatProgressModel",
          "model_module_version": "1.5.0",
          "state": {
            "_dom_classes": [],
            "_model_module": "@jupyter-widgets/controls",
            "_model_module_version": "1.5.0",
            "_model_name": "FloatProgressModel",
            "_view_count": null,
            "_view_module": "@jupyter-widgets/controls",
            "_view_module_version": "1.5.0",
            "_view_name": "ProgressView",
            "bar_style": "success",
            "description": "",
            "description_tooltip": null,
            "layout": "IPY_MODEL_3ff323e982424d5e8dc289ca46c1acdd",
            "max": 48,
            "min": 0,
            "orientation": "horizontal",
            "style": "IPY_MODEL_5b5638d35b5c4c4d953949c5b1c04352",
            "value": 48
          }
        },
        "6cd083343f5f40cea4da9ba47583ba0e": {
          "model_module": "@jupyter-widgets/controls",
          "model_name": "HTMLModel",
          "model_module_version": "1.5.0",
          "state": {
            "_dom_classes": [],
            "_model_module": "@jupyter-widgets/controls",
            "_model_module_version": "1.5.0",
            "_model_name": "HTMLModel",
            "_view_count": null,
            "_view_module": "@jupyter-widgets/controls",
            "_view_module_version": "1.5.0",
            "_view_name": "HTMLView",
            "description": "",
            "description_tooltip": null,
            "layout": "IPY_MODEL_ff9f103e99854a13a3f406ad87fddb27",
            "placeholder": "​",
            "style": "IPY_MODEL_883d2e46bbd3475da103c09a7e4ad86a",
            "value": " 48.0/48.0 [00:00&lt;00:00, 1.94kB/s]"
          }
        },
        "af040e3384be4ca1a173c3f92c4086cd": {
          "model_module": "@jupyter-widgets/base",
          "model_name": "LayoutModel",
          "model_module_version": "1.2.0",
          "state": {
            "_model_module": "@jupyter-widgets/base",
            "_model_module_version": "1.2.0",
            "_model_name": "LayoutModel",
            "_view_count": null,
            "_view_module": "@jupyter-widgets/base",
            "_view_module_version": "1.2.0",
            "_view_name": "LayoutView",
            "align_content": null,
            "align_items": null,
            "align_self": null,
            "border": null,
            "bottom": null,
            "display": null,
            "flex": null,
            "flex_flow": null,
            "grid_area": null,
            "grid_auto_columns": null,
            "grid_auto_flow": null,
            "grid_auto_rows": null,
            "grid_column": null,
            "grid_gap": null,
            "grid_row": null,
            "grid_template_areas": null,
            "grid_template_columns": null,
            "grid_template_rows": null,
            "height": null,
            "justify_content": null,
            "justify_items": null,
            "left": null,
            "margin": null,
            "max_height": null,
            "max_width": null,
            "min_height": null,
            "min_width": null,
            "object_fit": null,
            "object_position": null,
            "order": null,
            "overflow": null,
            "overflow_x": null,
            "overflow_y": null,
            "padding": null,
            "right": null,
            "top": null,
            "visibility": null,
            "width": null
          }
        },
        "7a3993bf9f1342e28531c4a397444b50": {
          "model_module": "@jupyter-widgets/base",
          "model_name": "LayoutModel",
          "model_module_version": "1.2.0",
          "state": {
            "_model_module": "@jupyter-widgets/base",
            "_model_module_version": "1.2.0",
            "_model_name": "LayoutModel",
            "_view_count": null,
            "_view_module": "@jupyter-widgets/base",
            "_view_module_version": "1.2.0",
            "_view_name": "LayoutView",
            "align_content": null,
            "align_items": null,
            "align_self": null,
            "border": null,
            "bottom": null,
            "display": null,
            "flex": null,
            "flex_flow": null,
            "grid_area": null,
            "grid_auto_columns": null,
            "grid_auto_flow": null,
            "grid_auto_rows": null,
            "grid_column": null,
            "grid_gap": null,
            "grid_row": null,
            "grid_template_areas": null,
            "grid_template_columns": null,
            "grid_template_rows": null,
            "height": null,
            "justify_content": null,
            "justify_items": null,
            "left": null,
            "margin": null,
            "max_height": null,
            "max_width": null,
            "min_height": null,
            "min_width": null,
            "object_fit": null,
            "object_position": null,
            "order": null,
            "overflow": null,
            "overflow_x": null,
            "overflow_y": null,
            "padding": null,
            "right": null,
            "top": null,
            "visibility": null,
            "width": null
          }
        },
        "4882de6e7bdb4871827a11e0367c449f": {
          "model_module": "@jupyter-widgets/controls",
          "model_name": "DescriptionStyleModel",
          "model_module_version": "1.5.0",
          "state": {
            "_model_module": "@jupyter-widgets/controls",
            "_model_module_version": "1.5.0",
            "_model_name": "DescriptionStyleModel",
            "_view_count": null,
            "_view_module": "@jupyter-widgets/base",
            "_view_module_version": "1.2.0",
            "_view_name": "StyleView",
            "description_width": ""
          }
        },
        "3ff323e982424d5e8dc289ca46c1acdd": {
          "model_module": "@jupyter-widgets/base",
          "model_name": "LayoutModel",
          "model_module_version": "1.2.0",
          "state": {
            "_model_module": "@jupyter-widgets/base",
            "_model_module_version": "1.2.0",
            "_model_name": "LayoutModel",
            "_view_count": null,
            "_view_module": "@jupyter-widgets/base",
            "_view_module_version": "1.2.0",
            "_view_name": "LayoutView",
            "align_content": null,
            "align_items": null,
            "align_self": null,
            "border": null,
            "bottom": null,
            "display": null,
            "flex": null,
            "flex_flow": null,
            "grid_area": null,
            "grid_auto_columns": null,
            "grid_auto_flow": null,
            "grid_auto_rows": null,
            "grid_column": null,
            "grid_gap": null,
            "grid_row": null,
            "grid_template_areas": null,
            "grid_template_columns": null,
            "grid_template_rows": null,
            "height": null,
            "justify_content": null,
            "justify_items": null,
            "left": null,
            "margin": null,
            "max_height": null,
            "max_width": null,
            "min_height": null,
            "min_width": null,
            "object_fit": null,
            "object_position": null,
            "order": null,
            "overflow": null,
            "overflow_x": null,
            "overflow_y": null,
            "padding": null,
            "right": null,
            "top": null,
            "visibility": null,
            "width": null
          }
        },
        "5b5638d35b5c4c4d953949c5b1c04352": {
          "model_module": "@jupyter-widgets/controls",
          "model_name": "ProgressStyleModel",
          "model_module_version": "1.5.0",
          "state": {
            "_model_module": "@jupyter-widgets/controls",
            "_model_module_version": "1.5.0",
            "_model_name": "ProgressStyleModel",
            "_view_count": null,
            "_view_module": "@jupyter-widgets/base",
            "_view_module_version": "1.2.0",
            "_view_name": "StyleView",
            "bar_color": null,
            "description_width": ""
          }
        },
        "ff9f103e99854a13a3f406ad87fddb27": {
          "model_module": "@jupyter-widgets/base",
          "model_name": "LayoutModel",
          "model_module_version": "1.2.0",
          "state": {
            "_model_module": "@jupyter-widgets/base",
            "_model_module_version": "1.2.0",
            "_model_name": "LayoutModel",
            "_view_count": null,
            "_view_module": "@jupyter-widgets/base",
            "_view_module_version": "1.2.0",
            "_view_name": "LayoutView",
            "align_content": null,
            "align_items": null,
            "align_self": null,
            "border": null,
            "bottom": null,
            "display": null,
            "flex": null,
            "flex_flow": null,
            "grid_area": null,
            "grid_auto_columns": null,
            "grid_auto_flow": null,
            "grid_auto_rows": null,
            "grid_column": null,
            "grid_gap": null,
            "grid_row": null,
            "grid_template_areas": null,
            "grid_template_columns": null,
            "grid_template_rows": null,
            "height": null,
            "justify_content": null,
            "justify_items": null,
            "left": null,
            "margin": null,
            "max_height": null,
            "max_width": null,
            "min_height": null,
            "min_width": null,
            "object_fit": null,
            "object_position": null,
            "order": null,
            "overflow": null,
            "overflow_x": null,
            "overflow_y": null,
            "padding": null,
            "right": null,
            "top": null,
            "visibility": null,
            "width": null
          }
        },
        "883d2e46bbd3475da103c09a7e4ad86a": {
          "model_module": "@jupyter-widgets/controls",
          "model_name": "DescriptionStyleModel",
          "model_module_version": "1.5.0",
          "state": {
            "_model_module": "@jupyter-widgets/controls",
            "_model_module_version": "1.5.0",
            "_model_name": "DescriptionStyleModel",
            "_view_count": null,
            "_view_module": "@jupyter-widgets/base",
            "_view_module_version": "1.2.0",
            "_view_name": "StyleView",
            "description_width": ""
          }
        },
        "f6ea7fe4d1c045df80f7b62d902f2c11": {
          "model_module": "@jupyter-widgets/controls",
          "model_name": "HBoxModel",
          "model_module_version": "1.5.0",
          "state": {
            "_dom_classes": [],
            "_model_module": "@jupyter-widgets/controls",
            "_model_module_version": "1.5.0",
            "_model_name": "HBoxModel",
            "_view_count": null,
            "_view_module": "@jupyter-widgets/controls",
            "_view_module_version": "1.5.0",
            "_view_name": "HBoxView",
            "box_style": "",
            "children": [
              "IPY_MODEL_2dc17f9ae70f4daa96354db0737e444e",
              "IPY_MODEL_afa1da0f81d24f2c8978cb6641f11947",
              "IPY_MODEL_da9d678af38f4e13ba58bcbc2fd6139f"
            ],
            "layout": "IPY_MODEL_940e09127cea4424a6eb7e7547680ab6"
          }
        },
        "2dc17f9ae70f4daa96354db0737e444e": {
          "model_module": "@jupyter-widgets/controls",
          "model_name": "HTMLModel",
          "model_module_version": "1.5.0",
          "state": {
            "_dom_classes": [],
            "_model_module": "@jupyter-widgets/controls",
            "_model_module_version": "1.5.0",
            "_model_name": "HTMLModel",
            "_view_count": null,
            "_view_module": "@jupyter-widgets/controls",
            "_view_module_version": "1.5.0",
            "_view_name": "HTMLView",
            "description": "",
            "description_tooltip": null,
            "layout": "IPY_MODEL_c647ca5bc9e044a583a75383c432d5d1",
            "placeholder": "​",
            "style": "IPY_MODEL_f3891868b5d84913b276bad5528c0f7d",
            "value": "vocab.txt: 100%"
          }
        },
        "afa1da0f81d24f2c8978cb6641f11947": {
          "model_module": "@jupyter-widgets/controls",
          "model_name": "FloatProgressModel",
          "model_module_version": "1.5.0",
          "state": {
            "_dom_classes": [],
            "_model_module": "@jupyter-widgets/controls",
            "_model_module_version": "1.5.0",
            "_model_name": "FloatProgressModel",
            "_view_count": null,
            "_view_module": "@jupyter-widgets/controls",
            "_view_module_version": "1.5.0",
            "_view_name": "ProgressView",
            "bar_style": "success",
            "description": "",
            "description_tooltip": null,
            "layout": "IPY_MODEL_0d0a27f053944ac480081a57f4ff8ba1",
            "max": 231508,
            "min": 0,
            "orientation": "horizontal",
            "style": "IPY_MODEL_23ebcb045cf54b8b8582de0d77594a4b",
            "value": 231508
          }
        },
        "da9d678af38f4e13ba58bcbc2fd6139f": {
          "model_module": "@jupyter-widgets/controls",
          "model_name": "HTMLModel",
          "model_module_version": "1.5.0",
          "state": {
            "_dom_classes": [],
            "_model_module": "@jupyter-widgets/controls",
            "_model_module_version": "1.5.0",
            "_model_name": "HTMLModel",
            "_view_count": null,
            "_view_module": "@jupyter-widgets/controls",
            "_view_module_version": "1.5.0",
            "_view_name": "HTMLView",
            "description": "",
            "description_tooltip": null,
            "layout": "IPY_MODEL_a7cdcce4d3f14dcbbe2144b36ed7b714",
            "placeholder": "​",
            "style": "IPY_MODEL_2f69d9aa23f147cdb4b7cc42ee0d17f3",
            "value": " 232k/232k [00:00&lt;00:00, 4.76MB/s]"
          }
        },
        "940e09127cea4424a6eb7e7547680ab6": {
          "model_module": "@jupyter-widgets/base",
          "model_name": "LayoutModel",
          "model_module_version": "1.2.0",
          "state": {
            "_model_module": "@jupyter-widgets/base",
            "_model_module_version": "1.2.0",
            "_model_name": "LayoutModel",
            "_view_count": null,
            "_view_module": "@jupyter-widgets/base",
            "_view_module_version": "1.2.0",
            "_view_name": "LayoutView",
            "align_content": null,
            "align_items": null,
            "align_self": null,
            "border": null,
            "bottom": null,
            "display": null,
            "flex": null,
            "flex_flow": null,
            "grid_area": null,
            "grid_auto_columns": null,
            "grid_auto_flow": null,
            "grid_auto_rows": null,
            "grid_column": null,
            "grid_gap": null,
            "grid_row": null,
            "grid_template_areas": null,
            "grid_template_columns": null,
            "grid_template_rows": null,
            "height": null,
            "justify_content": null,
            "justify_items": null,
            "left": null,
            "margin": null,
            "max_height": null,
            "max_width": null,
            "min_height": null,
            "min_width": null,
            "object_fit": null,
            "object_position": null,
            "order": null,
            "overflow": null,
            "overflow_x": null,
            "overflow_y": null,
            "padding": null,
            "right": null,
            "top": null,
            "visibility": null,
            "width": null
          }
        },
        "c647ca5bc9e044a583a75383c432d5d1": {
          "model_module": "@jupyter-widgets/base",
          "model_name": "LayoutModel",
          "model_module_version": "1.2.0",
          "state": {
            "_model_module": "@jupyter-widgets/base",
            "_model_module_version": "1.2.0",
            "_model_name": "LayoutModel",
            "_view_count": null,
            "_view_module": "@jupyter-widgets/base",
            "_view_module_version": "1.2.0",
            "_view_name": "LayoutView",
            "align_content": null,
            "align_items": null,
            "align_self": null,
            "border": null,
            "bottom": null,
            "display": null,
            "flex": null,
            "flex_flow": null,
            "grid_area": null,
            "grid_auto_columns": null,
            "grid_auto_flow": null,
            "grid_auto_rows": null,
            "grid_column": null,
            "grid_gap": null,
            "grid_row": null,
            "grid_template_areas": null,
            "grid_template_columns": null,
            "grid_template_rows": null,
            "height": null,
            "justify_content": null,
            "justify_items": null,
            "left": null,
            "margin": null,
            "max_height": null,
            "max_width": null,
            "min_height": null,
            "min_width": null,
            "object_fit": null,
            "object_position": null,
            "order": null,
            "overflow": null,
            "overflow_x": null,
            "overflow_y": null,
            "padding": null,
            "right": null,
            "top": null,
            "visibility": null,
            "width": null
          }
        },
        "f3891868b5d84913b276bad5528c0f7d": {
          "model_module": "@jupyter-widgets/controls",
          "model_name": "DescriptionStyleModel",
          "model_module_version": "1.5.0",
          "state": {
            "_model_module": "@jupyter-widgets/controls",
            "_model_module_version": "1.5.0",
            "_model_name": "DescriptionStyleModel",
            "_view_count": null,
            "_view_module": "@jupyter-widgets/base",
            "_view_module_version": "1.2.0",
            "_view_name": "StyleView",
            "description_width": ""
          }
        },
        "0d0a27f053944ac480081a57f4ff8ba1": {
          "model_module": "@jupyter-widgets/base",
          "model_name": "LayoutModel",
          "model_module_version": "1.2.0",
          "state": {
            "_model_module": "@jupyter-widgets/base",
            "_model_module_version": "1.2.0",
            "_model_name": "LayoutModel",
            "_view_count": null,
            "_view_module": "@jupyter-widgets/base",
            "_view_module_version": "1.2.0",
            "_view_name": "LayoutView",
            "align_content": null,
            "align_items": null,
            "align_self": null,
            "border": null,
            "bottom": null,
            "display": null,
            "flex": null,
            "flex_flow": null,
            "grid_area": null,
            "grid_auto_columns": null,
            "grid_auto_flow": null,
            "grid_auto_rows": null,
            "grid_column": null,
            "grid_gap": null,
            "grid_row": null,
            "grid_template_areas": null,
            "grid_template_columns": null,
            "grid_template_rows": null,
            "height": null,
            "justify_content": null,
            "justify_items": null,
            "left": null,
            "margin": null,
            "max_height": null,
            "max_width": null,
            "min_height": null,
            "min_width": null,
            "object_fit": null,
            "object_position": null,
            "order": null,
            "overflow": null,
            "overflow_x": null,
            "overflow_y": null,
            "padding": null,
            "right": null,
            "top": null,
            "visibility": null,
            "width": null
          }
        },
        "23ebcb045cf54b8b8582de0d77594a4b": {
          "model_module": "@jupyter-widgets/controls",
          "model_name": "ProgressStyleModel",
          "model_module_version": "1.5.0",
          "state": {
            "_model_module": "@jupyter-widgets/controls",
            "_model_module_version": "1.5.0",
            "_model_name": "ProgressStyleModel",
            "_view_count": null,
            "_view_module": "@jupyter-widgets/base",
            "_view_module_version": "1.2.0",
            "_view_name": "StyleView",
            "bar_color": null,
            "description_width": ""
          }
        },
        "a7cdcce4d3f14dcbbe2144b36ed7b714": {
          "model_module": "@jupyter-widgets/base",
          "model_name": "LayoutModel",
          "model_module_version": "1.2.0",
          "state": {
            "_model_module": "@jupyter-widgets/base",
            "_model_module_version": "1.2.0",
            "_model_name": "LayoutModel",
            "_view_count": null,
            "_view_module": "@jupyter-widgets/base",
            "_view_module_version": "1.2.0",
            "_view_name": "LayoutView",
            "align_content": null,
            "align_items": null,
            "align_self": null,
            "border": null,
            "bottom": null,
            "display": null,
            "flex": null,
            "flex_flow": null,
            "grid_area": null,
            "grid_auto_columns": null,
            "grid_auto_flow": null,
            "grid_auto_rows": null,
            "grid_column": null,
            "grid_gap": null,
            "grid_row": null,
            "grid_template_areas": null,
            "grid_template_columns": null,
            "grid_template_rows": null,
            "height": null,
            "justify_content": null,
            "justify_items": null,
            "left": null,
            "margin": null,
            "max_height": null,
            "max_width": null,
            "min_height": null,
            "min_width": null,
            "object_fit": null,
            "object_position": null,
            "order": null,
            "overflow": null,
            "overflow_x": null,
            "overflow_y": null,
            "padding": null,
            "right": null,
            "top": null,
            "visibility": null,
            "width": null
          }
        },
        "2f69d9aa23f147cdb4b7cc42ee0d17f3": {
          "model_module": "@jupyter-widgets/controls",
          "model_name": "DescriptionStyleModel",
          "model_module_version": "1.5.0",
          "state": {
            "_model_module": "@jupyter-widgets/controls",
            "_model_module_version": "1.5.0",
            "_model_name": "DescriptionStyleModel",
            "_view_count": null,
            "_view_module": "@jupyter-widgets/base",
            "_view_module_version": "1.2.0",
            "_view_name": "StyleView",
            "description_width": ""
          }
        },
        "d2ecaf9828594e13b0a03c17a368970f": {
          "model_module": "@jupyter-widgets/controls",
          "model_name": "HBoxModel",
          "model_module_version": "1.5.0",
          "state": {
            "_dom_classes": [],
            "_model_module": "@jupyter-widgets/controls",
            "_model_module_version": "1.5.0",
            "_model_name": "HBoxModel",
            "_view_count": null,
            "_view_module": "@jupyter-widgets/controls",
            "_view_module_version": "1.5.0",
            "_view_name": "HBoxView",
            "box_style": "",
            "children": [
              "IPY_MODEL_4e62fc1de9da4070bfee63fba17c1733",
              "IPY_MODEL_ba38d5f0ca2a44948fda09f2568860c9",
              "IPY_MODEL_2053544a3d38481687939283d1c1a8bc"
            ],
            "layout": "IPY_MODEL_2a387f0ba1804429b00ec7b63eeaa3f6"
          }
        },
        "4e62fc1de9da4070bfee63fba17c1733": {
          "model_module": "@jupyter-widgets/controls",
          "model_name": "HTMLModel",
          "model_module_version": "1.5.0",
          "state": {
            "_dom_classes": [],
            "_model_module": "@jupyter-widgets/controls",
            "_model_module_version": "1.5.0",
            "_model_name": "HTMLModel",
            "_view_count": null,
            "_view_module": "@jupyter-widgets/controls",
            "_view_module_version": "1.5.0",
            "_view_name": "HTMLView",
            "description": "",
            "description_tooltip": null,
            "layout": "IPY_MODEL_3f005283341544e29858e32a2fbe289b",
            "placeholder": "​",
            "style": "IPY_MODEL_6147564ec30b4f4a88a484cedd899fbb",
            "value": "tokenizer.json: 100%"
          }
        },
        "ba38d5f0ca2a44948fda09f2568860c9": {
          "model_module": "@jupyter-widgets/controls",
          "model_name": "FloatProgressModel",
          "model_module_version": "1.5.0",
          "state": {
            "_dom_classes": [],
            "_model_module": "@jupyter-widgets/controls",
            "_model_module_version": "1.5.0",
            "_model_name": "FloatProgressModel",
            "_view_count": null,
            "_view_module": "@jupyter-widgets/controls",
            "_view_module_version": "1.5.0",
            "_view_name": "ProgressView",
            "bar_style": "success",
            "description": "",
            "description_tooltip": null,
            "layout": "IPY_MODEL_32c0627df6b7436eb6f9cf5f9553531c",
            "max": 466062,
            "min": 0,
            "orientation": "horizontal",
            "style": "IPY_MODEL_978afbfe00ae4a7ca779406bf72ae3bd",
            "value": 466062
          }
        },
        "2053544a3d38481687939283d1c1a8bc": {
          "model_module": "@jupyter-widgets/controls",
          "model_name": "HTMLModel",
          "model_module_version": "1.5.0",
          "state": {
            "_dom_classes": [],
            "_model_module": "@jupyter-widgets/controls",
            "_model_module_version": "1.5.0",
            "_model_name": "HTMLModel",
            "_view_count": null,
            "_view_module": "@jupyter-widgets/controls",
            "_view_module_version": "1.5.0",
            "_view_name": "HTMLView",
            "description": "",
            "description_tooltip": null,
            "layout": "IPY_MODEL_b241284c5a294700b55d5278df447875",
            "placeholder": "​",
            "style": "IPY_MODEL_5f3222369d2c4743abcdaf491a5b590b",
            "value": " 466k/466k [00:00&lt;00:00, 16.1MB/s]"
          }
        },
        "2a387f0ba1804429b00ec7b63eeaa3f6": {
          "model_module": "@jupyter-widgets/base",
          "model_name": "LayoutModel",
          "model_module_version": "1.2.0",
          "state": {
            "_model_module": "@jupyter-widgets/base",
            "_model_module_version": "1.2.0",
            "_model_name": "LayoutModel",
            "_view_count": null,
            "_view_module": "@jupyter-widgets/base",
            "_view_module_version": "1.2.0",
            "_view_name": "LayoutView",
            "align_content": null,
            "align_items": null,
            "align_self": null,
            "border": null,
            "bottom": null,
            "display": null,
            "flex": null,
            "flex_flow": null,
            "grid_area": null,
            "grid_auto_columns": null,
            "grid_auto_flow": null,
            "grid_auto_rows": null,
            "grid_column": null,
            "grid_gap": null,
            "grid_row": null,
            "grid_template_areas": null,
            "grid_template_columns": null,
            "grid_template_rows": null,
            "height": null,
            "justify_content": null,
            "justify_items": null,
            "left": null,
            "margin": null,
            "max_height": null,
            "max_width": null,
            "min_height": null,
            "min_width": null,
            "object_fit": null,
            "object_position": null,
            "order": null,
            "overflow": null,
            "overflow_x": null,
            "overflow_y": null,
            "padding": null,
            "right": null,
            "top": null,
            "visibility": null,
            "width": null
          }
        },
        "3f005283341544e29858e32a2fbe289b": {
          "model_module": "@jupyter-widgets/base",
          "model_name": "LayoutModel",
          "model_module_version": "1.2.0",
          "state": {
            "_model_module": "@jupyter-widgets/base",
            "_model_module_version": "1.2.0",
            "_model_name": "LayoutModel",
            "_view_count": null,
            "_view_module": "@jupyter-widgets/base",
            "_view_module_version": "1.2.0",
            "_view_name": "LayoutView",
            "align_content": null,
            "align_items": null,
            "align_self": null,
            "border": null,
            "bottom": null,
            "display": null,
            "flex": null,
            "flex_flow": null,
            "grid_area": null,
            "grid_auto_columns": null,
            "grid_auto_flow": null,
            "grid_auto_rows": null,
            "grid_column": null,
            "grid_gap": null,
            "grid_row": null,
            "grid_template_areas": null,
            "grid_template_columns": null,
            "grid_template_rows": null,
            "height": null,
            "justify_content": null,
            "justify_items": null,
            "left": null,
            "margin": null,
            "max_height": null,
            "max_width": null,
            "min_height": null,
            "min_width": null,
            "object_fit": null,
            "object_position": null,
            "order": null,
            "overflow": null,
            "overflow_x": null,
            "overflow_y": null,
            "padding": null,
            "right": null,
            "top": null,
            "visibility": null,
            "width": null
          }
        },
        "6147564ec30b4f4a88a484cedd899fbb": {
          "model_module": "@jupyter-widgets/controls",
          "model_name": "DescriptionStyleModel",
          "model_module_version": "1.5.0",
          "state": {
            "_model_module": "@jupyter-widgets/controls",
            "_model_module_version": "1.5.0",
            "_model_name": "DescriptionStyleModel",
            "_view_count": null,
            "_view_module": "@jupyter-widgets/base",
            "_view_module_version": "1.2.0",
            "_view_name": "StyleView",
            "description_width": ""
          }
        },
        "32c0627df6b7436eb6f9cf5f9553531c": {
          "model_module": "@jupyter-widgets/base",
          "model_name": "LayoutModel",
          "model_module_version": "1.2.0",
          "state": {
            "_model_module": "@jupyter-widgets/base",
            "_model_module_version": "1.2.0",
            "_model_name": "LayoutModel",
            "_view_count": null,
            "_view_module": "@jupyter-widgets/base",
            "_view_module_version": "1.2.0",
            "_view_name": "LayoutView",
            "align_content": null,
            "align_items": null,
            "align_self": null,
            "border": null,
            "bottom": null,
            "display": null,
            "flex": null,
            "flex_flow": null,
            "grid_area": null,
            "grid_auto_columns": null,
            "grid_auto_flow": null,
            "grid_auto_rows": null,
            "grid_column": null,
            "grid_gap": null,
            "grid_row": null,
            "grid_template_areas": null,
            "grid_template_columns": null,
            "grid_template_rows": null,
            "height": null,
            "justify_content": null,
            "justify_items": null,
            "left": null,
            "margin": null,
            "max_height": null,
            "max_width": null,
            "min_height": null,
            "min_width": null,
            "object_fit": null,
            "object_position": null,
            "order": null,
            "overflow": null,
            "overflow_x": null,
            "overflow_y": null,
            "padding": null,
            "right": null,
            "top": null,
            "visibility": null,
            "width": null
          }
        },
        "978afbfe00ae4a7ca779406bf72ae3bd": {
          "model_module": "@jupyter-widgets/controls",
          "model_name": "ProgressStyleModel",
          "model_module_version": "1.5.0",
          "state": {
            "_model_module": "@jupyter-widgets/controls",
            "_model_module_version": "1.5.0",
            "_model_name": "ProgressStyleModel",
            "_view_count": null,
            "_view_module": "@jupyter-widgets/base",
            "_view_module_version": "1.2.0",
            "_view_name": "StyleView",
            "bar_color": null,
            "description_width": ""
          }
        },
        "b241284c5a294700b55d5278df447875": {
          "model_module": "@jupyter-widgets/base",
          "model_name": "LayoutModel",
          "model_module_version": "1.2.0",
          "state": {
            "_model_module": "@jupyter-widgets/base",
            "_model_module_version": "1.2.0",
            "_model_name": "LayoutModel",
            "_view_count": null,
            "_view_module": "@jupyter-widgets/base",
            "_view_module_version": "1.2.0",
            "_view_name": "LayoutView",
            "align_content": null,
            "align_items": null,
            "align_self": null,
            "border": null,
            "bottom": null,
            "display": null,
            "flex": null,
            "flex_flow": null,
            "grid_area": null,
            "grid_auto_columns": null,
            "grid_auto_flow": null,
            "grid_auto_rows": null,
            "grid_column": null,
            "grid_gap": null,
            "grid_row": null,
            "grid_template_areas": null,
            "grid_template_columns": null,
            "grid_template_rows": null,
            "height": null,
            "justify_content": null,
            "justify_items": null,
            "left": null,
            "margin": null,
            "max_height": null,
            "max_width": null,
            "min_height": null,
            "min_width": null,
            "object_fit": null,
            "object_position": null,
            "order": null,
            "overflow": null,
            "overflow_x": null,
            "overflow_y": null,
            "padding": null,
            "right": null,
            "top": null,
            "visibility": null,
            "width": null
          }
        },
        "5f3222369d2c4743abcdaf491a5b590b": {
          "model_module": "@jupyter-widgets/controls",
          "model_name": "DescriptionStyleModel",
          "model_module_version": "1.5.0",
          "state": {
            "_model_module": "@jupyter-widgets/controls",
            "_model_module_version": "1.5.0",
            "_model_name": "DescriptionStyleModel",
            "_view_count": null,
            "_view_module": "@jupyter-widgets/base",
            "_view_module_version": "1.2.0",
            "_view_name": "StyleView",
            "description_width": ""
          }
        },
        "2b649a8347984b8d90787d69117d4a26": {
          "model_module": "@jupyter-widgets/controls",
          "model_name": "HBoxModel",
          "model_module_version": "1.5.0",
          "state": {
            "_dom_classes": [],
            "_model_module": "@jupyter-widgets/controls",
            "_model_module_version": "1.5.0",
            "_model_name": "HBoxModel",
            "_view_count": null,
            "_view_module": "@jupyter-widgets/controls",
            "_view_module_version": "1.5.0",
            "_view_name": "HBoxView",
            "box_style": "",
            "children": [
              "IPY_MODEL_e7cae1652feb4437bbf61ce101d3c2f2",
              "IPY_MODEL_d2f2ab03a1ef435082d9d887bdb3007c",
              "IPY_MODEL_792ccde4b3084c4195f20f2e5d9bae01"
            ],
            "layout": "IPY_MODEL_04deff760e114f5d9140e9b04fa26cc6"
          }
        },
        "e7cae1652feb4437bbf61ce101d3c2f2": {
          "model_module": "@jupyter-widgets/controls",
          "model_name": "HTMLModel",
          "model_module_version": "1.5.0",
          "state": {
            "_dom_classes": [],
            "_model_module": "@jupyter-widgets/controls",
            "_model_module_version": "1.5.0",
            "_model_name": "HTMLModel",
            "_view_count": null,
            "_view_module": "@jupyter-widgets/controls",
            "_view_module_version": "1.5.0",
            "_view_name": "HTMLView",
            "description": "",
            "description_tooltip": null,
            "layout": "IPY_MODEL_378eccf5599f47f29d2894bcbcb28517",
            "placeholder": "​",
            "style": "IPY_MODEL_be705908447d4830bc2e8c42ae911620",
            "value": "config.json: 100%"
          }
        },
        "d2f2ab03a1ef435082d9d887bdb3007c": {
          "model_module": "@jupyter-widgets/controls",
          "model_name": "FloatProgressModel",
          "model_module_version": "1.5.0",
          "state": {
            "_dom_classes": [],
            "_model_module": "@jupyter-widgets/controls",
            "_model_module_version": "1.5.0",
            "_model_name": "FloatProgressModel",
            "_view_count": null,
            "_view_module": "@jupyter-widgets/controls",
            "_view_module_version": "1.5.0",
            "_view_name": "ProgressView",
            "bar_style": "success",
            "description": "",
            "description_tooltip": null,
            "layout": "IPY_MODEL_7c2f2daf286848a59235eaac5724d9f5",
            "max": 570,
            "min": 0,
            "orientation": "horizontal",
            "style": "IPY_MODEL_29d82c98162842b88a11490313887c79",
            "value": 570
          }
        },
        "792ccde4b3084c4195f20f2e5d9bae01": {
          "model_module": "@jupyter-widgets/controls",
          "model_name": "HTMLModel",
          "model_module_version": "1.5.0",
          "state": {
            "_dom_classes": [],
            "_model_module": "@jupyter-widgets/controls",
            "_model_module_version": "1.5.0",
            "_model_name": "HTMLModel",
            "_view_count": null,
            "_view_module": "@jupyter-widgets/controls",
            "_view_module_version": "1.5.0",
            "_view_name": "HTMLView",
            "description": "",
            "description_tooltip": null,
            "layout": "IPY_MODEL_0fae8d25c12349278479dac58ff5c957",
            "placeholder": "​",
            "style": "IPY_MODEL_07bda55228a449b29a00f6473022d030",
            "value": " 570/570 [00:00&lt;00:00, 22.8kB/s]"
          }
        },
        "04deff760e114f5d9140e9b04fa26cc6": {
          "model_module": "@jupyter-widgets/base",
          "model_name": "LayoutModel",
          "model_module_version": "1.2.0",
          "state": {
            "_model_module": "@jupyter-widgets/base",
            "_model_module_version": "1.2.0",
            "_model_name": "LayoutModel",
            "_view_count": null,
            "_view_module": "@jupyter-widgets/base",
            "_view_module_version": "1.2.0",
            "_view_name": "LayoutView",
            "align_content": null,
            "align_items": null,
            "align_self": null,
            "border": null,
            "bottom": null,
            "display": null,
            "flex": null,
            "flex_flow": null,
            "grid_area": null,
            "grid_auto_columns": null,
            "grid_auto_flow": null,
            "grid_auto_rows": null,
            "grid_column": null,
            "grid_gap": null,
            "grid_row": null,
            "grid_template_areas": null,
            "grid_template_columns": null,
            "grid_template_rows": null,
            "height": null,
            "justify_content": null,
            "justify_items": null,
            "left": null,
            "margin": null,
            "max_height": null,
            "max_width": null,
            "min_height": null,
            "min_width": null,
            "object_fit": null,
            "object_position": null,
            "order": null,
            "overflow": null,
            "overflow_x": null,
            "overflow_y": null,
            "padding": null,
            "right": null,
            "top": null,
            "visibility": null,
            "width": null
          }
        },
        "378eccf5599f47f29d2894bcbcb28517": {
          "model_module": "@jupyter-widgets/base",
          "model_name": "LayoutModel",
          "model_module_version": "1.2.0",
          "state": {
            "_model_module": "@jupyter-widgets/base",
            "_model_module_version": "1.2.0",
            "_model_name": "LayoutModel",
            "_view_count": null,
            "_view_module": "@jupyter-widgets/base",
            "_view_module_version": "1.2.0",
            "_view_name": "LayoutView",
            "align_content": null,
            "align_items": null,
            "align_self": null,
            "border": null,
            "bottom": null,
            "display": null,
            "flex": null,
            "flex_flow": null,
            "grid_area": null,
            "grid_auto_columns": null,
            "grid_auto_flow": null,
            "grid_auto_rows": null,
            "grid_column": null,
            "grid_gap": null,
            "grid_row": null,
            "grid_template_areas": null,
            "grid_template_columns": null,
            "grid_template_rows": null,
            "height": null,
            "justify_content": null,
            "justify_items": null,
            "left": null,
            "margin": null,
            "max_height": null,
            "max_width": null,
            "min_height": null,
            "min_width": null,
            "object_fit": null,
            "object_position": null,
            "order": null,
            "overflow": null,
            "overflow_x": null,
            "overflow_y": null,
            "padding": null,
            "right": null,
            "top": null,
            "visibility": null,
            "width": null
          }
        },
        "be705908447d4830bc2e8c42ae911620": {
          "model_module": "@jupyter-widgets/controls",
          "model_name": "DescriptionStyleModel",
          "model_module_version": "1.5.0",
          "state": {
            "_model_module": "@jupyter-widgets/controls",
            "_model_module_version": "1.5.0",
            "_model_name": "DescriptionStyleModel",
            "_view_count": null,
            "_view_module": "@jupyter-widgets/base",
            "_view_module_version": "1.2.0",
            "_view_name": "StyleView",
            "description_width": ""
          }
        },
        "7c2f2daf286848a59235eaac5724d9f5": {
          "model_module": "@jupyter-widgets/base",
          "model_name": "LayoutModel",
          "model_module_version": "1.2.0",
          "state": {
            "_model_module": "@jupyter-widgets/base",
            "_model_module_version": "1.2.0",
            "_model_name": "LayoutModel",
            "_view_count": null,
            "_view_module": "@jupyter-widgets/base",
            "_view_module_version": "1.2.0",
            "_view_name": "LayoutView",
            "align_content": null,
            "align_items": null,
            "align_self": null,
            "border": null,
            "bottom": null,
            "display": null,
            "flex": null,
            "flex_flow": null,
            "grid_area": null,
            "grid_auto_columns": null,
            "grid_auto_flow": null,
            "grid_auto_rows": null,
            "grid_column": null,
            "grid_gap": null,
            "grid_row": null,
            "grid_template_areas": null,
            "grid_template_columns": null,
            "grid_template_rows": null,
            "height": null,
            "justify_content": null,
            "justify_items": null,
            "left": null,
            "margin": null,
            "max_height": null,
            "max_width": null,
            "min_height": null,
            "min_width": null,
            "object_fit": null,
            "object_position": null,
            "order": null,
            "overflow": null,
            "overflow_x": null,
            "overflow_y": null,
            "padding": null,
            "right": null,
            "top": null,
            "visibility": null,
            "width": null
          }
        },
        "29d82c98162842b88a11490313887c79": {
          "model_module": "@jupyter-widgets/controls",
          "model_name": "ProgressStyleModel",
          "model_module_version": "1.5.0",
          "state": {
            "_model_module": "@jupyter-widgets/controls",
            "_model_module_version": "1.5.0",
            "_model_name": "ProgressStyleModel",
            "_view_count": null,
            "_view_module": "@jupyter-widgets/base",
            "_view_module_version": "1.2.0",
            "_view_name": "StyleView",
            "bar_color": null,
            "description_width": ""
          }
        },
        "0fae8d25c12349278479dac58ff5c957": {
          "model_module": "@jupyter-widgets/base",
          "model_name": "LayoutModel",
          "model_module_version": "1.2.0",
          "state": {
            "_model_module": "@jupyter-widgets/base",
            "_model_module_version": "1.2.0",
            "_model_name": "LayoutModel",
            "_view_count": null,
            "_view_module": "@jupyter-widgets/base",
            "_view_module_version": "1.2.0",
            "_view_name": "LayoutView",
            "align_content": null,
            "align_items": null,
            "align_self": null,
            "border": null,
            "bottom": null,
            "display": null,
            "flex": null,
            "flex_flow": null,
            "grid_area": null,
            "grid_auto_columns": null,
            "grid_auto_flow": null,
            "grid_auto_rows": null,
            "grid_column": null,
            "grid_gap": null,
            "grid_row": null,
            "grid_template_areas": null,
            "grid_template_columns": null,
            "grid_template_rows": null,
            "height": null,
            "justify_content": null,
            "justify_items": null,
            "left": null,
            "margin": null,
            "max_height": null,
            "max_width": null,
            "min_height": null,
            "min_width": null,
            "object_fit": null,
            "object_position": null,
            "order": null,
            "overflow": null,
            "overflow_x": null,
            "overflow_y": null,
            "padding": null,
            "right": null,
            "top": null,
            "visibility": null,
            "width": null
          }
        },
        "07bda55228a449b29a00f6473022d030": {
          "model_module": "@jupyter-widgets/controls",
          "model_name": "DescriptionStyleModel",
          "model_module_version": "1.5.0",
          "state": {
            "_model_module": "@jupyter-widgets/controls",
            "_model_module_version": "1.5.0",
            "_model_name": "DescriptionStyleModel",
            "_view_count": null,
            "_view_module": "@jupyter-widgets/base",
            "_view_module_version": "1.2.0",
            "_view_name": "StyleView",
            "description_width": ""
          }
        },
        "021c26cdcf0042eeaee65514d5e5bcba": {
          "model_module": "@jupyter-widgets/controls",
          "model_name": "HBoxModel",
          "model_module_version": "1.5.0",
          "state": {
            "_dom_classes": [],
            "_model_module": "@jupyter-widgets/controls",
            "_model_module_version": "1.5.0",
            "_model_name": "HBoxModel",
            "_view_count": null,
            "_view_module": "@jupyter-widgets/controls",
            "_view_module_version": "1.5.0",
            "_view_name": "HBoxView",
            "box_style": "",
            "children": [
              "IPY_MODEL_99168833198246428e770765ca60e195",
              "IPY_MODEL_c339856a28a74f188be8a6ba3c23c088",
              "IPY_MODEL_dd6a4faf5c4f4df0b9534e8be67f83e8"
            ],
            "layout": "IPY_MODEL_da8be601408e4923aea8f2449ea854fd"
          }
        },
        "99168833198246428e770765ca60e195": {
          "model_module": "@jupyter-widgets/controls",
          "model_name": "HTMLModel",
          "model_module_version": "1.5.0",
          "state": {
            "_dom_classes": [],
            "_model_module": "@jupyter-widgets/controls",
            "_model_module_version": "1.5.0",
            "_model_name": "HTMLModel",
            "_view_count": null,
            "_view_module": "@jupyter-widgets/controls",
            "_view_module_version": "1.5.0",
            "_view_name": "HTMLView",
            "description": "",
            "description_tooltip": null,
            "layout": "IPY_MODEL_2c3260c3471441be9ccf18784d1e1473",
            "placeholder": "​",
            "style": "IPY_MODEL_f8ea32328c92431c9fac43e05f60f67b",
            "value": "model.safetensors: 100%"
          }
        },
        "c339856a28a74f188be8a6ba3c23c088": {
          "model_module": "@jupyter-widgets/controls",
          "model_name": "FloatProgressModel",
          "model_module_version": "1.5.0",
          "state": {
            "_dom_classes": [],
            "_model_module": "@jupyter-widgets/controls",
            "_model_module_version": "1.5.0",
            "_model_name": "FloatProgressModel",
            "_view_count": null,
            "_view_module": "@jupyter-widgets/controls",
            "_view_module_version": "1.5.0",
            "_view_name": "ProgressView",
            "bar_style": "success",
            "description": "",
            "description_tooltip": null,
            "layout": "IPY_MODEL_a50ad7b08f654ce6972ba6f0eb5e8566",
            "max": 440449768,
            "min": 0,
            "orientation": "horizontal",
            "style": "IPY_MODEL_205809d3436c44dc8e3d84c37b20eec7",
            "value": 440449768
          }
        },
        "dd6a4faf5c4f4df0b9534e8be67f83e8": {
          "model_module": "@jupyter-widgets/controls",
          "model_name": "HTMLModel",
          "model_module_version": "1.5.0",
          "state": {
            "_dom_classes": [],
            "_model_module": "@jupyter-widgets/controls",
            "_model_module_version": "1.5.0",
            "_model_name": "HTMLModel",
            "_view_count": null,
            "_view_module": "@jupyter-widgets/controls",
            "_view_module_version": "1.5.0",
            "_view_name": "HTMLView",
            "description": "",
            "description_tooltip": null,
            "layout": "IPY_MODEL_496d6039c158480199fb6b5134c836c5",
            "placeholder": "​",
            "style": "IPY_MODEL_9ae77944a04b4058b2778a991e6a6c63",
            "value": " 440M/440M [00:06&lt;00:00, 94.6MB/s]"
          }
        },
        "da8be601408e4923aea8f2449ea854fd": {
          "model_module": "@jupyter-widgets/base",
          "model_name": "LayoutModel",
          "model_module_version": "1.2.0",
          "state": {
            "_model_module": "@jupyter-widgets/base",
            "_model_module_version": "1.2.0",
            "_model_name": "LayoutModel",
            "_view_count": null,
            "_view_module": "@jupyter-widgets/base",
            "_view_module_version": "1.2.0",
            "_view_name": "LayoutView",
            "align_content": null,
            "align_items": null,
            "align_self": null,
            "border": null,
            "bottom": null,
            "display": null,
            "flex": null,
            "flex_flow": null,
            "grid_area": null,
            "grid_auto_columns": null,
            "grid_auto_flow": null,
            "grid_auto_rows": null,
            "grid_column": null,
            "grid_gap": null,
            "grid_row": null,
            "grid_template_areas": null,
            "grid_template_columns": null,
            "grid_template_rows": null,
            "height": null,
            "justify_content": null,
            "justify_items": null,
            "left": null,
            "margin": null,
            "max_height": null,
            "max_width": null,
            "min_height": null,
            "min_width": null,
            "object_fit": null,
            "object_position": null,
            "order": null,
            "overflow": null,
            "overflow_x": null,
            "overflow_y": null,
            "padding": null,
            "right": null,
            "top": null,
            "visibility": null,
            "width": null
          }
        },
        "2c3260c3471441be9ccf18784d1e1473": {
          "model_module": "@jupyter-widgets/base",
          "model_name": "LayoutModel",
          "model_module_version": "1.2.0",
          "state": {
            "_model_module": "@jupyter-widgets/base",
            "_model_module_version": "1.2.0",
            "_model_name": "LayoutModel",
            "_view_count": null,
            "_view_module": "@jupyter-widgets/base",
            "_view_module_version": "1.2.0",
            "_view_name": "LayoutView",
            "align_content": null,
            "align_items": null,
            "align_self": null,
            "border": null,
            "bottom": null,
            "display": null,
            "flex": null,
            "flex_flow": null,
            "grid_area": null,
            "grid_auto_columns": null,
            "grid_auto_flow": null,
            "grid_auto_rows": null,
            "grid_column": null,
            "grid_gap": null,
            "grid_row": null,
            "grid_template_areas": null,
            "grid_template_columns": null,
            "grid_template_rows": null,
            "height": null,
            "justify_content": null,
            "justify_items": null,
            "left": null,
            "margin": null,
            "max_height": null,
            "max_width": null,
            "min_height": null,
            "min_width": null,
            "object_fit": null,
            "object_position": null,
            "order": null,
            "overflow": null,
            "overflow_x": null,
            "overflow_y": null,
            "padding": null,
            "right": null,
            "top": null,
            "visibility": null,
            "width": null
          }
        },
        "f8ea32328c92431c9fac43e05f60f67b": {
          "model_module": "@jupyter-widgets/controls",
          "model_name": "DescriptionStyleModel",
          "model_module_version": "1.5.0",
          "state": {
            "_model_module": "@jupyter-widgets/controls",
            "_model_module_version": "1.5.0",
            "_model_name": "DescriptionStyleModel",
            "_view_count": null,
            "_view_module": "@jupyter-widgets/base",
            "_view_module_version": "1.2.0",
            "_view_name": "StyleView",
            "description_width": ""
          }
        },
        "a50ad7b08f654ce6972ba6f0eb5e8566": {
          "model_module": "@jupyter-widgets/base",
          "model_name": "LayoutModel",
          "model_module_version": "1.2.0",
          "state": {
            "_model_module": "@jupyter-widgets/base",
            "_model_module_version": "1.2.0",
            "_model_name": "LayoutModel",
            "_view_count": null,
            "_view_module": "@jupyter-widgets/base",
            "_view_module_version": "1.2.0",
            "_view_name": "LayoutView",
            "align_content": null,
            "align_items": null,
            "align_self": null,
            "border": null,
            "bottom": null,
            "display": null,
            "flex": null,
            "flex_flow": null,
            "grid_area": null,
            "grid_auto_columns": null,
            "grid_auto_flow": null,
            "grid_auto_rows": null,
            "grid_column": null,
            "grid_gap": null,
            "grid_row": null,
            "grid_template_areas": null,
            "grid_template_columns": null,
            "grid_template_rows": null,
            "height": null,
            "justify_content": null,
            "justify_items": null,
            "left": null,
            "margin": null,
            "max_height": null,
            "max_width": null,
            "min_height": null,
            "min_width": null,
            "object_fit": null,
            "object_position": null,
            "order": null,
            "overflow": null,
            "overflow_x": null,
            "overflow_y": null,
            "padding": null,
            "right": null,
            "top": null,
            "visibility": null,
            "width": null
          }
        },
        "205809d3436c44dc8e3d84c37b20eec7": {
          "model_module": "@jupyter-widgets/controls",
          "model_name": "ProgressStyleModel",
          "model_module_version": "1.5.0",
          "state": {
            "_model_module": "@jupyter-widgets/controls",
            "_model_module_version": "1.5.0",
            "_model_name": "ProgressStyleModel",
            "_view_count": null,
            "_view_module": "@jupyter-widgets/base",
            "_view_module_version": "1.2.0",
            "_view_name": "StyleView",
            "bar_color": null,
            "description_width": ""
          }
        },
        "496d6039c158480199fb6b5134c836c5": {
          "model_module": "@jupyter-widgets/base",
          "model_name": "LayoutModel",
          "model_module_version": "1.2.0",
          "state": {
            "_model_module": "@jupyter-widgets/base",
            "_model_module_version": "1.2.0",
            "_model_name": "LayoutModel",
            "_view_count": null,
            "_view_module": "@jupyter-widgets/base",
            "_view_module_version": "1.2.0",
            "_view_name": "LayoutView",
            "align_content": null,
            "align_items": null,
            "align_self": null,
            "border": null,
            "bottom": null,
            "display": null,
            "flex": null,
            "flex_flow": null,
            "grid_area": null,
            "grid_auto_columns": null,
            "grid_auto_flow": null,
            "grid_auto_rows": null,
            "grid_column": null,
            "grid_gap": null,
            "grid_row": null,
            "grid_template_areas": null,
            "grid_template_columns": null,
            "grid_template_rows": null,
            "height": null,
            "justify_content": null,
            "justify_items": null,
            "left": null,
            "margin": null,
            "max_height": null,
            "max_width": null,
            "min_height": null,
            "min_width": null,
            "object_fit": null,
            "object_position": null,
            "order": null,
            "overflow": null,
            "overflow_x": null,
            "overflow_y": null,
            "padding": null,
            "right": null,
            "top": null,
            "visibility": null,
            "width": null
          }
        },
        "9ae77944a04b4058b2778a991e6a6c63": {
          "model_module": "@jupyter-widgets/controls",
          "model_name": "DescriptionStyleModel",
          "model_module_version": "1.5.0",
          "state": {
            "_model_module": "@jupyter-widgets/controls",
            "_model_module_version": "1.5.0",
            "_model_name": "DescriptionStyleModel",
            "_view_count": null,
            "_view_module": "@jupyter-widgets/base",
            "_view_module_version": "1.2.0",
            "_view_name": "StyleView",
            "description_width": ""
          }
        }
      }
    }
  },
  "cells": [
    {
      "cell_type": "code",
      "execution_count": null,
      "metadata": {
        "id": "Qp_SBW7Ib7sK",
        "colab": {
          "base_uri": "https://localhost:8080/"
        },
        "outputId": "bdc214da-033a-438e-92dc-d4f1cf4a01db"
      },
      "outputs": [
        {
          "output_type": "stream",
          "name": "stdout",
          "text": [
            "Mounted at /content/drive/\n"
          ]
        }
      ],
      "source": [
        "from google.colab import drive\n",
        "\n",
        "# Mount Google Drive\n",
        "drive.mount('/content/drive/')"
      ]
    },
    {
      "cell_type": "markdown",
      "source": [
        "## **Architecture**\n",
        "\n",
        "1.) **Textual Data Pipeline (Broadcast Transcripts)**\n",
        "- Tokenize and de-noise and  clean text\n",
        "- Use a transformer based NLP Pre-trained model (BERT or GPT\n",
        "- Fine-tune transformer model on sports commentary for feature extraction\n",
        "- Features Extracted:\n",
        "    - Player/team mentions\n",
        "    - Sentiment/emotion tied to game momentum\n",
        "    - Descriptive language for current play situations\n",
        "\n",
        "2.) **Numerical Data Pipeline (Game Stats)**\n",
        "- Normalize numerical features\n",
        "- Use a feedforward neural network pre-trained model (FNN) to process numerical data\n",
        "- Features Extracted:\n",
        "  - Play Info: Down, distance, field position\n",
        "  - Game Info: Current score\n",
        "  - Player Stats: QB completion rate, rushing yards\n",
        "  - Play event sequences (run, pass, penalty)\n",
        "- Encode Categorical Data (one hot encodings?)\n",
        "\n",
        "3.) **Temporal Modeling (Sequential Dependencies)**\n",
        "- Use Recurrent Neural Network (RNN): Use LSTM or GRU models to process sequences of game states and textual embeddings from the transcript\n",
        "\n",
        "  OR\n",
        "\n",
        "- Temporal Transformer (ex. Time-BERT) can model long range dependencies in both text and numerical dependencies.\n",
        "\n",
        "4.) **Fusion Layer**\n",
        "- Combine features  extracted from NLP model, FNN numerical data, temporal embeddings, by concatenating feature vectors into a unified dimensional vector\n",
        "- Use a dense layer to project the combined features into a common space and reduce dimensionality.\n",
        "\n",
        "5.) **Output Layer**\n",
        "- For a multi-event prediction use softmax activation function for multi-class classification\n",
        "- Output  event probabilities for a fixed time horizon\n",
        "\n",
        "\n"
      ],
      "metadata": {
        "id": "vj5opcJejm5B"
      }
    },
    {
      "cell_type": "markdown",
      "source": [
        "#### **Script for Data Preparation**"
      ],
      "metadata": {
        "id": "EJPy1YFFca1P"
      }
    },
    {
      "cell_type": "code",
      "source": [
        "\"\"\"import json\n",
        "import os\n",
        "\n",
        "\n",
        "# Define paths\n",
        "# Update these paths based on your folder structure in Google Drive\n",
        "input_json_path = '/content/drive/My Drive/Portfolio/NFL/EventPredictionNLPModel/Data/raw_broadcast_JSON/raw_transcripts.json'  # Replace with the path to your JSON file\n",
        "output_folder_path = '/content/drive/My Drive/Portfolio/NFL/EventPredictionNLPModel/Data/raw_broadcast_TXT/'  # Replace with the path to your output folder\n",
        "\n",
        "# Ensure the output folder exists\n",
        "os.makedirs(output_folder_path, exist_ok=True)\n",
        "\n",
        "# Load the JSON file\n",
        "with open(input_json_path, 'r') as json_file:\n",
        "    data = json.load(json_file)\n",
        "\n",
        "# Extract the transcript and save as .txt files\n",
        "for file_name, content in data.items():\n",
        "    transcript_text = content.get(\"transcript\", \"\")\n",
        "    if transcript_text:  # Ensure the transcript exists\n",
        "        # Define the output file path\n",
        "        output_file_path = os.path.join(output_folder_path, f\"{file_name.replace('.txt', '')}.txt\")\n",
        "\n",
        "        # Write the transcript to the file\n",
        "        with open(output_file_path, 'w') as txt_file:\n",
        "            txt_file.write(transcript_text)\n",
        "        print(f\"Saved transcript to: {output_file_path}\")\n",
        "    else:\n",
        "        print(f\"No transcript found for: {file_name}\")\n",
        "\n",
        "print(\"Extraction complete\")\"\"\""
      ],
      "metadata": {
        "id": "QV7BqpEqcaX9"
      },
      "execution_count": null,
      "outputs": []
    },
    {
      "cell_type": "markdown",
      "source": [
        "#### **Prep Dataset**\n",
        "Eliminate all broadcast transcripts before 2001, to eliminate inconsistencies."
      ],
      "metadata": {
        "id": "w2KQ6WNiiyM4"
      }
    },
    {
      "cell_type": "code",
      "source": [
        "\"\"\"\"\n",
        "# Define the directory path\n",
        "directory_path = \"/content/drive/My Drive/Portfolio/NFL/EventPredictionNLPModel/Data/raw_broadcast_TXT/\"\n",
        "\n",
        "# Ensure the directory exists\n",
        "if not os.path.exists(directory_path):\n",
        "    print(f\"Directory not found: {directory_path}\")\n",
        "else:\n",
        "    # Iterate through the files in the directory\n",
        "    for filename in os.listdir(directory_path):\n",
        "        # Check if the filename starts with a number less than 2001\n",
        "        match = re.match(r'^(\\d+)', filename)\n",
        "        if match:\n",
        "            number = int(match.group(1))\n",
        "            if number < 2001:\n",
        "                file_path = os.path.join(directory_path, filename)\n",
        "                try:\n",
        "                    # Delete the file\n",
        "                    os.remove(file_path)\n",
        "                    print(f\"Deleted: {file_path}\")\n",
        "                except Exception as e:\n",
        "                    print(f\"Error deleting {file_path}: {e}\")\n",
        "    print(\"File cleanup completed.\")\"\"\"\""
      ],
      "metadata": {
        "id": "Wfm_2eDhiwWp"
      },
      "execution_count": null,
      "outputs": []
    },
    {
      "cell_type": "markdown",
      "source": [
        "There are now **844** broadcast transcripts in the dataset"
      ],
      "metadata": {
        "id": "TuOInBsWjN59"
      }
    },
    {
      "cell_type": "markdown",
      "source": [
        "#### **Prep Dataset**\n",
        "BERT cannot distinguishe between plays, therefore the transcripts need to be broken into chunks. Each chunk is dedicated to the broadcast commentary between the time in which a play begins and right before the next play begins. Therefore I used regular expressions and along with a few other rules to split the transcripts up play-by-play."
      ],
      "metadata": {
        "id": "BOHePwK4j5gE"
      }
    },
    {
      "cell_type": "code",
      "source": [
        "\"\"\"\n",
        "# Specify the folder containing the text files\n",
        "# Update this with your actual Google Drive folder path\n",
        "input_folder_path = \"/content/drive/My Drive/Portfolio/NFL/EventPredictionNLPModel/Data/raw_broadcast_TXT/\"\n",
        "output_folder_path = \"/content/drive/My Drive/Portfolio/NFL/EventPredictionNLPModel/Data/new_processed_broadcast_TXT/\"\n",
        "\n",
        "# Create the output folder if it doesn't exist\n",
        "os.makedirs(output_folder_path, exist_ok=True)\n",
        "\n",
        "# Regular expression to identify play-related phrases\n",
        "regex_pattern = r\"(?i)\\b(?:first down|second down|third down|fourth down|punt|first and|second and|third and|fourth and|field goal)\\b\"\n",
        "\n",
        "def process_text(text):\n",
        "    # Find all matches of the regex\n",
        "    matches = list(re.finditer(regex_pattern, text))\n",
        "\n",
        "    # If no matches, return the entire text as one segment\n",
        "    if not matches:\n",
        "        return [text.strip()]\n",
        "\n",
        "    segments = []\n",
        "    last_end = 0\n",
        "\n",
        "    for i, match in enumerate(matches):\n",
        "        start, end = match.start(), match.end()\n",
        "\n",
        "        # Append the text from the last match to the current match\n",
        "        if i > 0:\n",
        "            segments.append(text[last_end:start].strip())\n",
        "        last_end = start\n",
        "\n",
        "    # Append the remaining text after the last match\n",
        "    segments.append(text[last_end:].strip())\n",
        "    return segments\n",
        "\n",
        "# Process each text file in the folder\n",
        "for file_name in os.listdir(input_folder_path):\n",
        "    if file_name.endswith('.txt'):\n",
        "        input_file_path = os.path.join(input_folder_path, file_name)\n",
        "        output_file_path = os.path.join(output_folder_path, f\"processed_{file_name}\")\n",
        "\n",
        "        with open(input_file_path, 'r') as file:\n",
        "            text = file.read()\n",
        "\n",
        "        # Process the text and split it into segments\n",
        "        segments = process_text(text)\n",
        "\n",
        "        # Write the segments to a new output file\n",
        "        with open(output_file_path, 'w') as output_file:\n",
        "            for segment in segments:\n",
        "                output_file.write(segment + \"\\n\\n\")\n",
        "\n",
        "print(\"Processing complete. Processed files are saved in the output folder.\")\"\"\"\n"
      ],
      "metadata": {
        "id": "cq14xzaojywq"
      },
      "execution_count": null,
      "outputs": []
    },
    {
      "cell_type": "markdown",
      "source": [
        "#### **80-10-10 Split:**\n",
        "Training set (80%): *675 files*\n",
        "\n",
        "Validation set (10%): *85 files*\n",
        "\n",
        "Test set (10%): *84 files*"
      ],
      "metadata": {
        "id": "fWoSopdymPe_"
      }
    },
    {
      "cell_type": "markdown",
      "source": [
        "### **Feature Mapping**\n",
        "\n",
        "1.) Rule-based Assgnment\n",
        "\n",
        "2.) ML-based Predictions: For fields requiring contextual understanding like play_type and yards_gained\n",
        "\n",
        "3.) Post-Processing and Computation: for calculated fields like quarter_seconds_remaining\n",
        "\n",
        "#### **Feature Mapping Pipeline**\n",
        "The mapping pipeline consists of:\n",
        "\n",
        "* **Rule-based Assignment:** For static metadata and fields with straightforward mappings.\n",
        "* **ML-based Predictions:** For fields requiring contextual understanding, like play_type and yards_gained.\n",
        "* **Post-Processing and Computation:** For calculated fields (e.g., quarter_seconds_remaining).\n",
        "\n",
        "* **Static Metadata:** Fields like game_id, home_team, away_team, game_date.\n",
        "* **Dynamic Data:** Fields derived from textual features, e.g., desc, play_type, yards_gained.\n",
        "* **Calculated Data:** Fields computed based on rules or models, e.g., yardline_100, quarter_seconds_remaining."
      ],
      "metadata": {
        "id": "7ZO_kblKjgd_"
      }
    },
    {
      "cell_type": "markdown",
      "source": [
        "## **Desired .JSON**\n",
        "Structure and content example for extracted features in .JSOn format"
      ],
      "metadata": {
        "id": "z6ajqhkFLlRW"
      }
    },
    {
      "cell_type": "code",
      "source": [
        "      # Static\n",
        "      {\n",
        "        \"home_team\": \"Chiefs\",\n",
        "        \"away_team\": \"Eagles\",\n",
        "        \"game_date\": \"2022-10-16\"\n",
        "      }\n",
        "\n",
        "      # Play Stats\n",
        "      {\n",
        "        \"play_id\": \"1\",\n",
        "        \"posteam\": \"Chiefs\",\n",
        "        \"posteam_type\": \"offense\",\n",
        "        \"defteam\": \"Eagles\",\n",
        "        \"side_of_field\": \"KC\",\n",
        "        \"quarter_seconds_remaining\": \"600\",\n",
        "        \"half_seconds_remaining\": \"1800\",\n",
        "        \"game_seconds_remaining\": \"3600\",\n",
        "        \"game_half\": \"first\",\n",
        "        \"qtr\": \"1\",\n",
        "        \"down\": \"1\",\n",
        "        \"yrdln\": \"KC 20\",\n",
        "        \"ydstogo\": \"10\",\n",
        "        \"desc\": \"Mahomes pass complete to Kelce for 20 yards\",\n",
        "        \"play_type\": \"pass\",\n",
        "        \"yards_gained\": \"20\"\n",
        "      }"
      ],
      "metadata": {
        "id": "QUCd6bC5Lw4o"
      },
      "execution_count": null,
      "outputs": []
    },
    {
      "cell_type": "markdown",
      "source": [
        "Changes made from numerical game data:"
      ],
      "metadata": {
        "id": "ehH9FC4RM5oW"
      }
    },
    {
      "cell_type": "code",
      "source": [
        "# Deleted keys\n",
        "        \"game_id\":\n",
        "        \"yardline_100\": \"80\",\n",
        "        \"quarter_end\": \"0\",\n",
        "        \"drive\": \"1\",\n",
        "        \"sp\": \"0\",\n",
        "        \"goal_to_go\": \"1\",\n",
        "        \"time\": \"15:00\",\n",
        "        \"ydsnet\": \"80\",\n",
        "# Keys to be potentially added\n",
        "        \"home_points\": \"10\",\n",
        "        \"visitor_points\": \"5\",\n",
        "        \"pentalty\": \"no\",\n",
        "        \"timeout\": \"yes\",\n",
        "home_points:\n",
        "- \"it's [number]\"\n",
        "\n",
        "vistor_points:\n",
        "- home_points:\n",
        "- \"it's [number]\""
      ],
      "metadata": {
        "id": "F24njewfMxmt"
      },
      "execution_count": null,
      "outputs": []
    },
    {
      "cell_type": "markdown",
      "source": [
        "## **Textual Data Layer**\n",
        "**Input:** .txt files containing broadcast data\n",
        "\n",
        "**Pre-Trained Transformer:** BERT\n",
        "\n",
        "**Output:** .json containing extracted features\n",
        "\n",
        "1.) Tokenization\n",
        "\n",
        "2.) De-noising\n",
        "\n",
        "3.) BERT for feature extraction\n",
        "\n",
        "This is the structure of my tectual data pipeline layer. How would I structure the cleaning, tokenizing denoising, and extract the features of the broadcast transcripts from the football games, with each game split up into txt files?"
      ],
      "metadata": {
        "id": "vnNAkRLbcl0z"
      }
    },
    {
      "cell_type": "markdown",
      "source": [
        "### **Individual Play Text Preparation**\n",
        "\n",
        "\"\n",
        "\n",
        "*third down and seven runners got him today wide open he strikes with Demetrius Harris again and what a way to set up the drama a 35yard completion by kid wonder showtime mahomes as we hit the twominute warning and here come the cheats that kind of night on Monday Night Football as people if they hear all the Blues here at Mile High because the whole crowd felt that the plate clock had hit zero on that 35yard way you see it right there Joe right before that ball snapped it goes to zero well our longtime rules expert Jeff Triplett can't be challenged right yup that's correct this can't be challenged but what you got to understand is the back judge is looking at that play he looks at the flop play clock go to zero his mechanic is and then look at the snap so if he felt like the snap was going off then he then to play goes so here we are a*\""
      ],
      "metadata": {
        "id": "0rS9qJ08NL-6"
      }
    },
    {
      "cell_type": "markdown",
      "source": [
        "Above is a single chunk of text that is from and nfl broadcast. It represents the commentary made about a single play by the announcers until the next play begins. In order to test my method of extraction, I will be using a limited number of stats, ones which are the most common to be found in a chunk of commentary.\n",
        "\n",
        "We will use regular expressions in combination with BERT to extract the following data:\n",
        "\n",
        "* Down number\n",
        "* Yardline\n",
        "* Yards to go\n",
        "* Play type\n",
        "\n",
        "I have devised the following regular expressions to help BERT identify these these pieces of data to match up:\n",
        "\n",
        "* **Down number:** r\"(?m)^\\s*$\\n\\s*(\\w+)\"\n",
        "\n",
        "* **Yardline**: r\"(?:\\d+|[a-zA-Z]+)(?=\\s*yard\\s*line|yardline)\"\n",
        "\n",
        "* **Yards to go:** r\"\\n\\n.*\\band\\s(\\b\\w+)\"\n",
        "\n",
        "* **Play type:** r\"\\b(?:pass|rush|punt|kick|handoff|throw|rushes|passes|throws|run|runs|kicks|punts|completion|completes|bootleg|scramble|running|shot down|strike|return|play action|playaction|caught|caught by)\\b\"\n",
        "\n",
        "* **Yards gained:** r\"\\b(?:\\d+|[a-zA-Z]+)\\s*(?:yards?|on the play|penalty)\\b|\\bgain of\\s*(?:\\d+|[a-zA-Z]+)\\b|\\bloss of\\s*(?:\\d+|[a-zA-Z]+)\\b|\\bpicks\\s*(?:\\d+|[a-zA-Z]+)\\b|\\bgets\\s*(?:\\d+|[a-zA-Z]+)\\b\""
      ],
      "metadata": {
        "id": "iky_7cWrNqAh"
      }
    },
    {
      "cell_type": "markdown",
      "source": [
        "### Test the regular expressions"
      ],
      "metadata": {
        "id": "4rL5oF23Pyfi"
      }
    },
    {
      "cell_type": "code",
      "source": [
        "import re\n",
        "\n",
        "# Sample text\n",
        "text = \"\"\"\n",
        "\n",
        "second and four looks one way comes back the other now extending and gets back to Tyreke he'll the Broncos left right the Broncos are doing a great job Joe you see how my homes is Holt you see I he's petting the football he's holding it because the purpose is there they're confusing the young guy nice job by the different potholes defense he gets to be the nofly zone they've been giving up pass yards I used to see them playing well tonight you know when God they miss on the outside Sammy Watkins he has the speed and the size and the route running ability when the homes extended those place he can get separation and said well seeing Chris hotly in there Watkins out with a hamstring.\n",
        "\"\"\"\n",
        "\n",
        "# Regular expression pattern\n",
        "pattern = r\"(?m)^\\s*$\\n\\s*(\\w+)\"\n",
        "\n",
        "\n",
        "# Find all matches\n",
        "matches = re.findall(pattern, text)\n",
        "\n",
        "# Output the results\n",
        "print(\"Matched words after blank lines:\")\n",
        "for match in matches:\n",
        "    print(match)"
      ],
      "metadata": {
        "id": "D07wPlmYP6AD"
      },
      "execution_count": null,
      "outputs": []
    },
    {
      "cell_type": "code",
      "source": [
        "import re\n",
        "\n",
        "text = \"\"\"\n",
        "\n",
        "second and four looks one way comes back the o\n",
        "\"\"\"\n",
        "\n",
        "# Regular expression\n",
        "pattern = r\"\\n\\n.*\\band\\s(\\b\\w+)\"\n",
        "\n",
        "# Match\n",
        "match = re.search(pattern, text)\n",
        "if match:\n",
        "    print(match.group(1))  # Output: one\n",
        "else:\n",
        "    print(\"No match found\")\n"
      ],
      "metadata": {
        "id": "8hzewXzGP9SX"
      },
      "execution_count": null,
      "outputs": []
    },
    {
      "cell_type": "code",
      "source": [
        "import re\n",
        "\n",
        "# Regular expression\n",
        "pattern = r\"(?:\\d+|[a-zA-Z]+)(?=\\s*yard\\s*line|yardline)\"\n",
        "\n",
        "# Test cases\n",
        "test_strings = [\n",
        "    \"first down constantly extending plays giving his team a chance and then using that flamethrower of a right arm they were trying to get where out quick out the back cut off that bunch step to pick route Denver did a good job passing off but you know regardless of what happens tonight you know and this is not about chipping of holes best game statistically but he's showing that grit and determination on the road I like the moxie but I more importantly I like the poise and the noise going underneath Kelsey's spin spree and he's to the 9 yard line you know what that is bo\"\n",
        "]\n",
        "\n",
        "# Apply regex and print matches\n",
        "for text in test_strings:\n",
        "    match = re.search(pattern, text)\n",
        "    if match:\n",
        "        print(f\"Matched: '{match.group()}' in '{text}'\")\n",
        "    else:\n",
        "        print(f\"No match in '{text}'\")\n"
      ],
      "metadata": {
        "id": "Ho5PZZ6nP_Qw"
      },
      "execution_count": null,
      "outputs": []
    },
    {
      "cell_type": "code",
      "source": [
        "import re\n",
        "\n",
        "# Regular expression\n",
        "pattern = r\"\\b(?:pass|rush|punt|kick|handoff|throw|rushes|passes|throws|run|runs|kicks|punts|completion|completes|bootleg|scramble|running|shot down|strike|return|play action|playaction|caught|caught by)\\b\"\n",
        "\n",
        "# Test cases\n",
        "test_strings = [\n",
        "    \"third down and ten under five and a half to play and trying to come in with a win and hold on to a threepoint margin keenum he's gonna run for push out of bounds that time by Allen Bailey excellent play by Bailey to track keenum you know statistically this Kansas City defense has been in the bottom maybe even last in a lot of care categories but they've been number one on\"\n",
        "]\n",
        "\n",
        "# Apply regex and print matches\n",
        "for text in test_strings:\n",
        "    match = re.search(pattern, text)\n",
        "    if match:\n",
        "        print(f\"Matched: '{match.group()}' in '{text}'\")\n",
        "    else:\n",
        "        print(f\"No match in '{text}'\")"
      ],
      "metadata": {
        "id": "pdEx_SJhQHM8"
      },
      "execution_count": null,
      "outputs": []
    },
    {
      "cell_type": "code",
      "source": [
        "import re\n",
        "\n",
        "# Regular expression\n",
        "pattern = r\"\\b(?:\\d+|[a-zA-Z]+)\\s*(?:yards?|on the play|penalty)\\b|\\bgain of\\s*(?:\\d+|[a-zA-Z]+)\\b|\\bloss of\\s*(?:\\d+|[a-zA-Z]+)\\b|\\bpicks\\s*(?:\\d+|[a-zA-Z]+)\\b|\\bgets\\s*(?:\\d+|[a-zA-Z]+)\\b\"\n",
        "\n",
        "# Test cases\n",
        "test_strings = [\n",
        "    \"push ahead as he makes his way to the 45 a gain of five for Hunter you know the one thing on Patrick mahomes it's rare to\"\n",
        "]\n",
        "\n",
        "# Apply regex and print matches\n",
        "for text in test_strings:\n",
        "    match = re.search(pattern, text)\n",
        "    if match:\n",
        "        print(f\"Matched: '{match.group()}' in '{text}'\")\n",
        "    else:\n",
        "        print(f\"No match in '{text}'\")"
      ],
      "metadata": {
        "id": "aQDjKxw6QJa8"
      },
      "execution_count": null,
      "outputs": []
    },
    {
      "cell_type": "markdown",
      "source": [
        "## **Use RegEx and BERT to extract specific stats from each play of commentary**"
      ],
      "metadata": {
        "id": "5iE60PuVQeMr"
      }
    },
    {
      "cell_type": "code",
      "source": [
        "import os\n",
        "import re\n",
        "import json\n",
        "from transformers import BertTokenizer, BertModel\n",
        "import torch\n",
        "import numpy as np"
      ],
      "metadata": {
        "id": "0n-vmn1VNts_"
      },
      "execution_count": null,
      "outputs": []
    },
    {
      "cell_type": "code",
      "source": [
        "pip install transformers torch"
      ],
      "metadata": {
        "colab": {
          "base_uri": "https://localhost:8080/"
        },
        "collapsed": true,
        "id": "pFllvKOJQM_c",
        "outputId": "00eccfee-ec6b-4e9e-9933-c09f44c991da"
      },
      "execution_count": null,
      "outputs": [
        {
          "output_type": "stream",
          "name": "stdout",
          "text": [
            "Requirement already satisfied: transformers in /usr/local/lib/python3.11/dist-packages (4.47.1)\n",
            "Requirement already satisfied: torch in /usr/local/lib/python3.11/dist-packages (2.5.1+cu121)\n",
            "Requirement already satisfied: filelock in /usr/local/lib/python3.11/dist-packages (from transformers) (3.17.0)\n",
            "Requirement already satisfied: huggingface-hub<1.0,>=0.24.0 in /usr/local/lib/python3.11/dist-packages (from transformers) (0.27.1)\n",
            "Requirement already satisfied: numpy>=1.17 in /usr/local/lib/python3.11/dist-packages (from transformers) (1.26.4)\n",
            "Requirement already satisfied: packaging>=20.0 in /usr/local/lib/python3.11/dist-packages (from transformers) (24.2)\n",
            "Requirement already satisfied: pyyaml>=5.1 in /usr/local/lib/python3.11/dist-packages (from transformers) (6.0.2)\n",
            "Requirement already satisfied: regex!=2019.12.17 in /usr/local/lib/python3.11/dist-packages (from transformers) (2024.11.6)\n",
            "Requirement already satisfied: requests in /usr/local/lib/python3.11/dist-packages (from transformers) (2.32.3)\n",
            "Requirement already satisfied: tokenizers<0.22,>=0.21 in /usr/local/lib/python3.11/dist-packages (from transformers) (0.21.0)\n",
            "Requirement already satisfied: safetensors>=0.4.1 in /usr/local/lib/python3.11/dist-packages (from transformers) (0.5.2)\n",
            "Requirement already satisfied: tqdm>=4.27 in /usr/local/lib/python3.11/dist-packages (from transformers) (4.67.1)\n",
            "Requirement already satisfied: typing-extensions>=4.8.0 in /usr/local/lib/python3.11/dist-packages (from torch) (4.12.2)\n",
            "Requirement already satisfied: networkx in /usr/local/lib/python3.11/dist-packages (from torch) (3.4.2)\n",
            "Requirement already satisfied: jinja2 in /usr/local/lib/python3.11/dist-packages (from torch) (3.1.5)\n",
            "Requirement already satisfied: fsspec in /usr/local/lib/python3.11/dist-packages (from torch) (2024.10.0)\n",
            "Requirement already satisfied: nvidia-cuda-nvrtc-cu12==12.1.105 in /usr/local/lib/python3.11/dist-packages (from torch) (12.1.105)\n",
            "Requirement already satisfied: nvidia-cuda-runtime-cu12==12.1.105 in /usr/local/lib/python3.11/dist-packages (from torch) (12.1.105)\n",
            "Requirement already satisfied: nvidia-cuda-cupti-cu12==12.1.105 in /usr/local/lib/python3.11/dist-packages (from torch) (12.1.105)\n",
            "Requirement already satisfied: nvidia-cudnn-cu12==9.1.0.70 in /usr/local/lib/python3.11/dist-packages (from torch) (9.1.0.70)\n",
            "Requirement already satisfied: nvidia-cublas-cu12==12.1.3.1 in /usr/local/lib/python3.11/dist-packages (from torch) (12.1.3.1)\n",
            "Requirement already satisfied: nvidia-cufft-cu12==11.0.2.54 in /usr/local/lib/python3.11/dist-packages (from torch) (11.0.2.54)\n",
            "Requirement already satisfied: nvidia-curand-cu12==10.3.2.106 in /usr/local/lib/python3.11/dist-packages (from torch) (10.3.2.106)\n",
            "Requirement already satisfied: nvidia-cusolver-cu12==11.4.5.107 in /usr/local/lib/python3.11/dist-packages (from torch) (11.4.5.107)\n",
            "Requirement already satisfied: nvidia-cusparse-cu12==12.1.0.106 in /usr/local/lib/python3.11/dist-packages (from torch) (12.1.0.106)\n",
            "Requirement already satisfied: nvidia-nccl-cu12==2.21.5 in /usr/local/lib/python3.11/dist-packages (from torch) (2.21.5)\n",
            "Requirement already satisfied: nvidia-nvtx-cu12==12.1.105 in /usr/local/lib/python3.11/dist-packages (from torch) (12.1.105)\n",
            "Requirement already satisfied: triton==3.1.0 in /usr/local/lib/python3.11/dist-packages (from torch) (3.1.0)\n",
            "Requirement already satisfied: sympy==1.13.1 in /usr/local/lib/python3.11/dist-packages (from torch) (1.13.1)\n",
            "Requirement already satisfied: nvidia-nvjitlink-cu12 in /usr/local/lib/python3.11/dist-packages (from nvidia-cusolver-cu12==11.4.5.107->torch) (12.6.85)\n",
            "Requirement already satisfied: mpmath<1.4,>=1.1.0 in /usr/local/lib/python3.11/dist-packages (from sympy==1.13.1->torch) (1.3.0)\n",
            "Requirement already satisfied: MarkupSafe>=2.0 in /usr/local/lib/python3.11/dist-packages (from jinja2->torch) (3.0.2)\n",
            "Requirement already satisfied: charset-normalizer<4,>=2 in /usr/local/lib/python3.11/dist-packages (from requests->transformers) (3.4.1)\n",
            "Requirement already satisfied: idna<4,>=2.5 in /usr/local/lib/python3.11/dist-packages (from requests->transformers) (3.10)\n",
            "Requirement already satisfied: urllib3<3,>=1.21.1 in /usr/local/lib/python3.11/dist-packages (from requests->transformers) (2.3.0)\n",
            "Requirement already satisfied: certifi>=2017.4.17 in /usr/local/lib/python3.11/dist-packages (from requests->transformers) (2024.12.14)\n"
          ]
        }
      ]
    },
    {
      "cell_type": "markdown",
      "source": [
        "### Test this method"
      ],
      "metadata": {
        "id": "LLJ-bHKYUCl6"
      }
    },
    {
      "cell_type": "code",
      "source": [
        "import re\n",
        "from transformers import BertTokenizer, BertForMaskedLM\n",
        "import torch\n",
        "\n",
        "# Regular expressions for various pieces of data\n",
        "down_number_regex = r\"(?m)^\\s*$\\n\\s*(\\w+)\"\n",
        "yardline_regex = r\"(?:\\d+|[a-zA-Z]+)(?=\\s*yard\\s*line|yardline)\"\n",
        "yards_to_go_regex = r\"\\n\\n.*\\band\\s(\\b\\w+)\"\n",
        "play_type_regex = r\"\\b(?:pass|rush|punt|kick|handoff|throw|rushes|passes|throws|run|runs|kicks|punts|completion|completes|bootleg|scramble|running|shot down|strike|return|play action|playaction|caught|caught by)\\b\"\n",
        "yards_gained_regex = r\"\\b(?:\\d+|[a-zA-Z]+)\\s*(?:yards?|on the play|penalty)\\b|\\bgain of\\s*(?:\\d+|[a-zAZ]+)\\b|\\bloss of\\s*(?:\\d+|[a-zA-Z]+)\\b|\\bpicks\\s*(?:\\d+|[a-zA-Z]+)\\b|\\bgets\\s*(?:\\d+|[a-zA-Z]+)\\b\"\n",
        "\n",
        "# Sample input text from the NFL broadcast\n",
        "text = \"\"\"\n",
        "\n",
        "first down constantly extending plays giving his team a chance and then using that flamethrower of a right arm they were trying to get where out quick out the back cut off that bunch step to pick route Denver did a good job passing off but you know regardless of what happens tonight you know and this is not about chipping of holes best game statistically but he's showing that grit and determination on the road I like the moxie but I more importantly I like the poise and the noise going underneath Kelsey's spin spree and he's to the 9 yard line you know what that is bo\n",
        "\"\"\"\n",
        "\n",
        "# Initialize BERT model and tokenizer\n",
        "tokenizer = BertTokenizer.from_pretrained('bert-base-uncased')\n",
        "model = BertForMaskedLM.from_pretrained('bert-base-uncased')\n",
        "\n",
        "# Function to extract data using regex\n",
        "def extract_data_using_regex(text):\n",
        "    # Extract down number\n",
        "    down_match = re.search(down_number_regex, text)\n",
        "    down_number = down_match.group(1) if down_match else None\n",
        "\n",
        "    # Extract yardline\n",
        "    yardline_match = re.search(yardline_regex, text)\n",
        "    yardline = yardline_match.group(0) if yardline_match else None\n",
        "\n",
        "    # Extract yards to go\n",
        "    yards_to_go_match = re.search(yards_to_go_regex, text)\n",
        "    yards_to_go = yards_to_go_match.group(1) if yards_to_go_match else None\n",
        "\n",
        "    # Extract play type\n",
        "    play_type_match = re.search(play_type_regex, text)\n",
        "    play_type = play_type_match.group(0) if play_type_match else None\n",
        "\n",
        "    # Extract yards gained\n",
        "    yards_gained_match = re.search(yards_gained_regex, text)\n",
        "    yards_gained = yards_gained_match.group(0) if yards_gained_match else None\n",
        "\n",
        "    return down_number, yardline, yards_to_go, play_type, yards_gained\n",
        "\n",
        "# Function to fill missing data using BERT\n",
        "def fill_using_bert(text, mask=\"<MASK>\"):\n",
        "    # Prepare input with masked information (where we need the model to infer)\n",
        "    input_text = text.replace(\"<MASK>\", mask)\n",
        "    inputs = tokenizer(input_text, return_tensors='pt')\n",
        "\n",
        "    # Make prediction with BERT\n",
        "    with torch.no_grad():\n",
        "        outputs = model(**inputs)\n",
        "        predictions = outputs.logits\n",
        "\n",
        "    # Get predicted token\n",
        "    predicted_token_id = torch.argmax(predictions[0, inputs['input_ids'].shape[1] - 1]).item()\n",
        "    predicted_token = tokenizer.decode(predicted_token_id)\n",
        "\n",
        "    return predicted_token\n",
        "\n",
        "# Apply regex to extract known values\n",
        "down_number, yardline, yards_to_go, play_type, yards_gained = extract_data_using_regex(text)\n",
        "\n",
        "# If any values are missing, use BERT to predict or infer them\n",
        "if not down_number:\n",
        "    down_number = fill_using_bert(text, mask=\"down number\")\n",
        "if not yardline:\n",
        "    yardline = fill_using_bert(text, mask=\"yardline\")\n",
        "if not yards_to_go:\n",
        "    yards_to_go = fill_using_bert(text, mask=\"yards to go\")\n",
        "if not play_type:\n",
        "    play_type = fill_using_bert(text, mask=\"play type\")\n",
        "if not yards_gained:\n",
        "    yards_gained = fill_using_bert(text, mask=\"yards gained\")\n",
        "\n",
        "# Output the extracted data\n",
        "print(f\"Down number: {down_number}\")\n",
        "print(f\"Yardline: {yardline}\")\n",
        "print(f\"Yards to go: {yards_to_go}\")\n",
        "print(f\"Play type: {play_type}\")\n",
        "print(f\"Yards gained: {yards_gained}\")"
      ],
      "metadata": {
        "colab": {
          "base_uri": "https://localhost:8080/",
          "height": 509,
          "referenced_widgets": [
            "3542bc282e2d4daa9e288c0e0002b2da",
            "71f6fcc643f544b8a99102a1ea3e8a35",
            "3461d38c452540859aaba96d08690df1",
            "6cd083343f5f40cea4da9ba47583ba0e",
            "af040e3384be4ca1a173c3f92c4086cd",
            "7a3993bf9f1342e28531c4a397444b50",
            "4882de6e7bdb4871827a11e0367c449f",
            "3ff323e982424d5e8dc289ca46c1acdd",
            "5b5638d35b5c4c4d953949c5b1c04352",
            "ff9f103e99854a13a3f406ad87fddb27",
            "883d2e46bbd3475da103c09a7e4ad86a",
            "f6ea7fe4d1c045df80f7b62d902f2c11",
            "2dc17f9ae70f4daa96354db0737e444e",
            "afa1da0f81d24f2c8978cb6641f11947",
            "da9d678af38f4e13ba58bcbc2fd6139f",
            "940e09127cea4424a6eb7e7547680ab6",
            "c647ca5bc9e044a583a75383c432d5d1",
            "f3891868b5d84913b276bad5528c0f7d",
            "0d0a27f053944ac480081a57f4ff8ba1",
            "23ebcb045cf54b8b8582de0d77594a4b",
            "a7cdcce4d3f14dcbbe2144b36ed7b714",
            "2f69d9aa23f147cdb4b7cc42ee0d17f3",
            "d2ecaf9828594e13b0a03c17a368970f",
            "4e62fc1de9da4070bfee63fba17c1733",
            "ba38d5f0ca2a44948fda09f2568860c9",
            "2053544a3d38481687939283d1c1a8bc",
            "2a387f0ba1804429b00ec7b63eeaa3f6",
            "3f005283341544e29858e32a2fbe289b",
            "6147564ec30b4f4a88a484cedd899fbb",
            "32c0627df6b7436eb6f9cf5f9553531c",
            "978afbfe00ae4a7ca779406bf72ae3bd",
            "b241284c5a294700b55d5278df447875",
            "5f3222369d2c4743abcdaf491a5b590b",
            "2b649a8347984b8d90787d69117d4a26",
            "e7cae1652feb4437bbf61ce101d3c2f2",
            "d2f2ab03a1ef435082d9d887bdb3007c",
            "792ccde4b3084c4195f20f2e5d9bae01",
            "04deff760e114f5d9140e9b04fa26cc6",
            "378eccf5599f47f29d2894bcbcb28517",
            "be705908447d4830bc2e8c42ae911620",
            "7c2f2daf286848a59235eaac5724d9f5",
            "29d82c98162842b88a11490313887c79",
            "0fae8d25c12349278479dac58ff5c957",
            "07bda55228a449b29a00f6473022d030",
            "021c26cdcf0042eeaee65514d5e5bcba",
            "99168833198246428e770765ca60e195",
            "c339856a28a74f188be8a6ba3c23c088",
            "dd6a4faf5c4f4df0b9534e8be67f83e8",
            "da8be601408e4923aea8f2449ea854fd",
            "2c3260c3471441be9ccf18784d1e1473",
            "f8ea32328c92431c9fac43e05f60f67b",
            "a50ad7b08f654ce6972ba6f0eb5e8566",
            "205809d3436c44dc8e3d84c37b20eec7",
            "496d6039c158480199fb6b5134c836c5",
            "9ae77944a04b4058b2778a991e6a6c63"
          ]
        },
        "id": "L1JzfMtOQa1y",
        "outputId": "0cff0df6-60a3-40ba-e542-ed0a46f6e483"
      },
      "execution_count": null,
      "outputs": [
        {
          "output_type": "stream",
          "name": "stderr",
          "text": [
            "/usr/local/lib/python3.11/dist-packages/huggingface_hub/utils/_auth.py:94: UserWarning: \n",
            "The secret `HF_TOKEN` does not exist in your Colab secrets.\n",
            "To authenticate with the Hugging Face Hub, create a token in your settings tab (https://huggingface.co/settings/tokens), set it as secret in your Google Colab and restart your session.\n",
            "You will be able to reuse this secret in all of your notebooks.\n",
            "Please note that authentication is recommended but still optional to access public models or datasets.\n",
            "  warnings.warn(\n"
          ]
        },
        {
          "output_type": "display_data",
          "data": {
            "text/plain": [
              "tokenizer_config.json:   0%|          | 0.00/48.0 [00:00<?, ?B/s]"
            ],
            "application/vnd.jupyter.widget-view+json": {
              "version_major": 2,
              "version_minor": 0,
              "model_id": "3542bc282e2d4daa9e288c0e0002b2da"
            }
          },
          "metadata": {}
        },
        {
          "output_type": "display_data",
          "data": {
            "text/plain": [
              "vocab.txt:   0%|          | 0.00/232k [00:00<?, ?B/s]"
            ],
            "application/vnd.jupyter.widget-view+json": {
              "version_major": 2,
              "version_minor": 0,
              "model_id": "f6ea7fe4d1c045df80f7b62d902f2c11"
            }
          },
          "metadata": {}
        },
        {
          "output_type": "display_data",
          "data": {
            "text/plain": [
              "tokenizer.json:   0%|          | 0.00/466k [00:00<?, ?B/s]"
            ],
            "application/vnd.jupyter.widget-view+json": {
              "version_major": 2,
              "version_minor": 0,
              "model_id": "d2ecaf9828594e13b0a03c17a368970f"
            }
          },
          "metadata": {}
        },
        {
          "output_type": "display_data",
          "data": {
            "text/plain": [
              "config.json:   0%|          | 0.00/570 [00:00<?, ?B/s]"
            ],
            "application/vnd.jupyter.widget-view+json": {
              "version_major": 2,
              "version_minor": 0,
              "model_id": "2b649a8347984b8d90787d69117d4a26"
            }
          },
          "metadata": {}
        },
        {
          "output_type": "display_data",
          "data": {
            "text/plain": [
              "model.safetensors:   0%|          | 0.00/440M [00:00<?, ?B/s]"
            ],
            "application/vnd.jupyter.widget-view+json": {
              "version_major": 2,
              "version_minor": 0,
              "model_id": "021c26cdcf0042eeaee65514d5e5bcba"
            }
          },
          "metadata": {}
        },
        {
          "output_type": "stream",
          "name": "stderr",
          "text": [
            "BertForMaskedLM has generative capabilities, as `prepare_inputs_for_generation` is explicitly overwritten. However, it doesn't directly inherit from `GenerationMixin`. From 👉v4.50👈 onwards, `PreTrainedModel` will NOT inherit from `GenerationMixin`, and this model will lose the ability to call `generate` and other related functions.\n",
            "  - If you're using `trust_remote_code=True`, you can get rid of this warning by loading the model with an auto class. See https://huggingface.co/docs/transformers/en/model_doc/auto#auto-classes\n",
            "  - If you are the owner of the model architecture code, please modify your model class such that it inherits from `GenerationMixin` (after `PreTrainedModel`, otherwise you'll get an exception).\n",
            "  - If you are not the owner of the model architecture class, please contact the model code owner to update it.\n",
            "Some weights of the model checkpoint at bert-base-uncased were not used when initializing BertForMaskedLM: ['bert.pooler.dense.bias', 'bert.pooler.dense.weight', 'cls.seq_relationship.bias', 'cls.seq_relationship.weight']\n",
            "- This IS expected if you are initializing BertForMaskedLM from the checkpoint of a model trained on another task or with another architecture (e.g. initializing a BertForSequenceClassification model from a BertForPreTraining model).\n",
            "- This IS NOT expected if you are initializing BertForMaskedLM from the checkpoint of a model that you expect to be exactly identical (initializing a BertForSequenceClassification model from a BertForSequenceClassification model).\n"
          ]
        },
        {
          "output_type": "stream",
          "name": "stdout",
          "text": [
            "Down number: first\n",
            "Yardline: 9\n",
            "Yards to go: he\n",
            "Play type: .\n",
            "Yards gained: 9 yard\n"
          ]
        }
      ]
    },
    {
      "cell_type": "code",
      "source": [
        "import os\n",
        "import re\n",
        "import json\n",
        "from transformers import BertTokenizer, BertForMaskedLM\n",
        "import torch\n",
        "from google.colab import drive\n",
        "\n",
        "# Mount Google Drive\n",
        "drive.mount('/content/drive')\n",
        "\n",
        "# Define paths\n",
        "input_folder = \"/content/drive/My Drive/Portfolio/NFL/EventPredictionNLPModel/Data/new_processed_broadcast_TXT/\"\n",
        "output_folder = \"/content/drive/My Drive/Portfolio/NFL/EventPredictionNLPModel/Data/play_processed_json/\"\n",
        "\n",
        "# Create output folder if it doesn't exist\n",
        "os.makedirs(output_folder, exist_ok=True)\n",
        "\n",
        "# Initialize BERT model and tokenizer\n",
        "tokenizer = BertTokenizer.from_pretrained('bert-base-uncased')\n",
        "model = BertForMaskedLM.from_pretrained('bert-base-uncased')\n",
        "\n",
        "# Regular expressions for various pieces of data\n",
        "down_number_regex = r\"(?m)^\\s*$\\n\\s*(\\w+)\"\n",
        "yardline_regex = r\"(?:\\d+|[a-zA-Z]+)(?=\\s*yard\\s*line|yardline)\"\n",
        "yards_to_go_regex = r\"\\n\\n.*\\band\\s(\\b\\w+)\"\n",
        "play_type_regex = r\"\\b(?:pass|rush|punt|kick|handoff|throw|rushes|passes|throws|run|runs|kicks|punts|completion|completes|bootleg|scramble|running|shot down|strike|return|play action|playaction|caught|caught by)\\b\"\n",
        "yards_gained_regex = r\"\\b(?:\\d+|[a-zA-Z]+)\\s*(?:yards?|on the play|penalty)\\b|\\bgain of\\s*(?:\\d+|[a-zAZ]+)\\b|\\bloss of\\s*(?:\\d+|[a-zA-Z]+)\\b|\\bpicks\\s*(?:\\d+|[a-zA-Z]+)\\b|\\bgets\\s*(?:\\d+|[a-zA-Z]+)\\b\"\n",
        "\n",
        "# Function to extract data using regex\n",
        "def extract_data_using_regex(text):\n",
        "    down_match = re.search(down_number_regex, text)\n",
        "    down_number = down_match.group(1) if down_match else None\n",
        "\n",
        "    yardline_match = re.search(yardline_regex, text)\n",
        "    yardline = yardline_match.group(0) if yardline_match else None\n",
        "\n",
        "    yards_to_go_match = re.search(yards_to_go_regex, text)\n",
        "    yards_to_go = yards_to_go_match.group(1) if yards_to_go_match else None\n",
        "\n",
        "    play_type_match = re.search(play_type_regex, text)\n",
        "    play_type = play_type_match.group(0) if play_type_match else None\n",
        "\n",
        "    yards_gained_match = re.search(yards_gained_regex, text)\n",
        "    yards_gained = yards_gained_match.group(0) if yards_gained_match else None\n",
        "\n",
        "    return down_number, yardline, yards_to_go, play_type, yards_gained\n",
        "\n",
        "# Function to fill missing data using BERT\n",
        "def fill_using_bert(text, mask=\"<MASK>\"):\n",
        "    # Prepare input with masked information (truncate if necessary)\n",
        "    input_text = text.replace(\"<MASK>\", mask)\n",
        "    inputs = tokenizer(input_text, return_tensors='pt', truncation=True, max_length=512)\n",
        "\n",
        "    # Make prediction with BERT\n",
        "    with torch.no_grad():\n",
        "        outputs = model(**inputs)\n",
        "        predictions = outputs.logits\n",
        "\n",
        "    # Get predicted token\n",
        "    predicted_token_id = torch.argmax(predictions[0, inputs['input_ids'].shape[1] - 1]).item()\n",
        "    predicted_token = tokenizer.decode(predicted_token_id)\n",
        "\n",
        "    return predicted_token\n",
        "\n",
        "# Process text files in the input folder\n",
        "for filename in os.listdir(input_folder):\n",
        "    if filename.endswith(\".txt\"):\n",
        "        filepath = os.path.join(input_folder, filename)\n",
        "\n",
        "        # Read the file content\n",
        "        with open(filepath, \"r\") as file:\n",
        "            content = file.read()\n",
        "\n",
        "        # Split text into chunks by blank lines\n",
        "        chunks = [chunk.strip() for chunk in content.split(\"\\n\\n\") if chunk.strip()]\n",
        "\n",
        "        # Initialize a list to store all play data for this file\n",
        "        all_plays = []\n",
        "\n",
        "        # Process each chunk\n",
        "        for i, chunk in enumerate(chunks):\n",
        "            down_number, yardline, yards_to_go, play_type, yards_gained = extract_data_using_regex(chunk)\n",
        "\n",
        "            # Fill missing values using BERT\n",
        "            if not down_number:\n",
        "                down_number = fill_using_bert(chunk, mask=\"down number\")\n",
        "            if not yardline:\n",
        "                yardline = fill_using_bert(chunk, mask=\"yardline\")\n",
        "            if not yards_to_go:\n",
        "                yards_to_go = fill_using_bert(chunk, mask=\"yards to go\")\n",
        "            if not play_type:\n",
        "                play_type = fill_using_bert(chunk, mask=\"play type\")\n",
        "            if not yards_gained:\n",
        "                yards_gained = fill_using_bert(chunk, mask=\"yards gained\")\n",
        "\n",
        "            # Create play data object\n",
        "            play_data = {\n",
        "                \"transcript\": chunk,\n",
        "                \"down\": down_number or \"unknown\",\n",
        "                \"yrdln\": yardline or \"unknown\",\n",
        "                \"play_type\": play_type or \"unknown\",\n",
        "                \"yards_gained\": yards_gained or \"unknown\",\n",
        "            }\n",
        "\n",
        "            # Append play data to the list\n",
        "            all_plays.append(play_data)\n",
        "\n",
        "        # Save all plays to a single JSON file\n",
        "        output_filename = f\"{os.path.splitext(filename)[0]}.json\"\n",
        "        output_filepath = os.path.join(output_folder, output_filename)\n",
        "\n",
        "        with open(output_filepath, \"w\") as json_file:\n",
        "            json.dump(all_plays, json_file, indent=4)\n",
        "\n",
        "print(\"Processing complete. JSON files saved to:\", output_folder)\n"
      ],
      "metadata": {
        "colab": {
          "base_uri": "https://localhost:8080/",
          "height": 445
        },
        "id": "s_JdQEWbcBBl",
        "outputId": "59170a42-1388-4176-f65a-495c4c6c5662"
      },
      "execution_count": null,
      "outputs": [
        {
          "output_type": "stream",
          "name": "stdout",
          "text": [
            "Drive already mounted at /content/drive; to attempt to forcibly remount, call drive.mount(\"/content/drive\", force_remount=True).\n"
          ]
        },
        {
          "output_type": "stream",
          "name": "stderr",
          "text": [
            "Some weights of the model checkpoint at bert-base-uncased were not used when initializing BertForMaskedLM: ['bert.pooler.dense.bias', 'bert.pooler.dense.weight', 'cls.seq_relationship.bias', 'cls.seq_relationship.weight']\n",
            "- This IS expected if you are initializing BertForMaskedLM from the checkpoint of a model trained on another task or with another architecture (e.g. initializing a BertForSequenceClassification model from a BertForPreTraining model).\n",
            "- This IS NOT expected if you are initializing BertForMaskedLM from the checkpoint of a model that you expect to be exactly identical (initializing a BertForSequenceClassification model from a BertForSequenceClassification model).\n"
          ]
        },
        {
          "output_type": "error",
          "ename": "KeyboardInterrupt",
          "evalue": "",
          "traceback": [
            "\u001b[0;31m---------------------------------------------------------------------------\u001b[0m",
            "\u001b[0;31mKeyboardInterrupt\u001b[0m                         Traceback (most recent call last)",
            "\u001b[0;32m<ipython-input-7-2574a8afc03f>\u001b[0m in \u001b[0;36m<cell line: 0>\u001b[0;34m()\u001b[0m\n\u001b[1;32m     84\u001b[0m             \u001b[0;31m# Fill missing values using BERT\u001b[0m\u001b[0;34m\u001b[0m\u001b[0;34m\u001b[0m\u001b[0m\n\u001b[1;32m     85\u001b[0m             \u001b[0;32mif\u001b[0m \u001b[0;32mnot\u001b[0m \u001b[0mdown_number\u001b[0m\u001b[0;34m:\u001b[0m\u001b[0;34m\u001b[0m\u001b[0;34m\u001b[0m\u001b[0m\n\u001b[0;32m---> 86\u001b[0;31m                 \u001b[0mdown_number\u001b[0m \u001b[0;34m=\u001b[0m \u001b[0mfill_using_bert\u001b[0m\u001b[0;34m(\u001b[0m\u001b[0mchunk\u001b[0m\u001b[0;34m,\u001b[0m \u001b[0mmask\u001b[0m\u001b[0;34m=\u001b[0m\u001b[0;34m\"down number\"\u001b[0m\u001b[0;34m)\u001b[0m\u001b[0;34m\u001b[0m\u001b[0;34m\u001b[0m\u001b[0m\n\u001b[0m\u001b[1;32m     87\u001b[0m             \u001b[0;32mif\u001b[0m \u001b[0;32mnot\u001b[0m \u001b[0myardline\u001b[0m\u001b[0;34m:\u001b[0m\u001b[0;34m\u001b[0m\u001b[0;34m\u001b[0m\u001b[0m\n\u001b[1;32m     88\u001b[0m                 \u001b[0myardline\u001b[0m \u001b[0;34m=\u001b[0m \u001b[0mfill_using_bert\u001b[0m\u001b[0;34m(\u001b[0m\u001b[0mchunk\u001b[0m\u001b[0;34m,\u001b[0m \u001b[0mmask\u001b[0m\u001b[0;34m=\u001b[0m\u001b[0;34m\"yardline\"\u001b[0m\u001b[0;34m)\u001b[0m\u001b[0;34m\u001b[0m\u001b[0;34m\u001b[0m\u001b[0m\n",
            "\u001b[0;32m<ipython-input-7-2574a8afc03f>\u001b[0m in \u001b[0;36mfill_using_bert\u001b[0;34m(text, mask)\u001b[0m\n\u001b[1;32m     54\u001b[0m     \u001b[0;31m# Make prediction with BERT\u001b[0m\u001b[0;34m\u001b[0m\u001b[0;34m\u001b[0m\u001b[0m\n\u001b[1;32m     55\u001b[0m     \u001b[0;32mwith\u001b[0m \u001b[0mtorch\u001b[0m\u001b[0;34m.\u001b[0m\u001b[0mno_grad\u001b[0m\u001b[0;34m(\u001b[0m\u001b[0;34m)\u001b[0m\u001b[0;34m:\u001b[0m\u001b[0;34m\u001b[0m\u001b[0;34m\u001b[0m\u001b[0m\n\u001b[0;32m---> 56\u001b[0;31m         \u001b[0moutputs\u001b[0m \u001b[0;34m=\u001b[0m \u001b[0mmodel\u001b[0m\u001b[0;34m(\u001b[0m\u001b[0;34m**\u001b[0m\u001b[0minputs\u001b[0m\u001b[0;34m)\u001b[0m\u001b[0;34m\u001b[0m\u001b[0;34m\u001b[0m\u001b[0m\n\u001b[0m\u001b[1;32m     57\u001b[0m         \u001b[0mpredictions\u001b[0m \u001b[0;34m=\u001b[0m \u001b[0moutputs\u001b[0m\u001b[0;34m.\u001b[0m\u001b[0mlogits\u001b[0m\u001b[0;34m\u001b[0m\u001b[0;34m\u001b[0m\u001b[0m\n\u001b[1;32m     58\u001b[0m \u001b[0;34m\u001b[0m\u001b[0m\n",
            "\u001b[0;32m/usr/local/lib/python3.11/dist-packages/torch/nn/modules/module.py\u001b[0m in \u001b[0;36m_wrapped_call_impl\u001b[0;34m(self, *args, **kwargs)\u001b[0m\n\u001b[1;32m   1734\u001b[0m             \u001b[0;32mreturn\u001b[0m \u001b[0mself\u001b[0m\u001b[0;34m.\u001b[0m\u001b[0m_compiled_call_impl\u001b[0m\u001b[0;34m(\u001b[0m\u001b[0;34m*\u001b[0m\u001b[0margs\u001b[0m\u001b[0;34m,\u001b[0m \u001b[0;34m**\u001b[0m\u001b[0mkwargs\u001b[0m\u001b[0;34m)\u001b[0m  \u001b[0;31m# type: ignore[misc]\u001b[0m\u001b[0;34m\u001b[0m\u001b[0;34m\u001b[0m\u001b[0m\n\u001b[1;32m   1735\u001b[0m         \u001b[0;32melse\u001b[0m\u001b[0;34m:\u001b[0m\u001b[0;34m\u001b[0m\u001b[0;34m\u001b[0m\u001b[0m\n\u001b[0;32m-> 1736\u001b[0;31m             \u001b[0;32mreturn\u001b[0m \u001b[0mself\u001b[0m\u001b[0;34m.\u001b[0m\u001b[0m_call_impl\u001b[0m\u001b[0;34m(\u001b[0m\u001b[0;34m*\u001b[0m\u001b[0margs\u001b[0m\u001b[0;34m,\u001b[0m \u001b[0;34m**\u001b[0m\u001b[0mkwargs\u001b[0m\u001b[0;34m)\u001b[0m\u001b[0;34m\u001b[0m\u001b[0;34m\u001b[0m\u001b[0m\n\u001b[0m\u001b[1;32m   1737\u001b[0m \u001b[0;34m\u001b[0m\u001b[0m\n\u001b[1;32m   1738\u001b[0m     \u001b[0;31m# torchrec tests the code consistency with the following code\u001b[0m\u001b[0;34m\u001b[0m\u001b[0;34m\u001b[0m\u001b[0m\n",
            "\u001b[0;32m/usr/local/lib/python3.11/dist-packages/torch/nn/modules/module.py\u001b[0m in \u001b[0;36m_call_impl\u001b[0;34m(self, *args, **kwargs)\u001b[0m\n\u001b[1;32m   1745\u001b[0m                 \u001b[0;32mor\u001b[0m \u001b[0m_global_backward_pre_hooks\u001b[0m \u001b[0;32mor\u001b[0m \u001b[0m_global_backward_hooks\u001b[0m\u001b[0;34m\u001b[0m\u001b[0;34m\u001b[0m\u001b[0m\n\u001b[1;32m   1746\u001b[0m                 or _global_forward_hooks or _global_forward_pre_hooks):\n\u001b[0;32m-> 1747\u001b[0;31m             \u001b[0;32mreturn\u001b[0m \u001b[0mforward_call\u001b[0m\u001b[0;34m(\u001b[0m\u001b[0;34m*\u001b[0m\u001b[0margs\u001b[0m\u001b[0;34m,\u001b[0m \u001b[0;34m**\u001b[0m\u001b[0mkwargs\u001b[0m\u001b[0;34m)\u001b[0m\u001b[0;34m\u001b[0m\u001b[0;34m\u001b[0m\u001b[0m\n\u001b[0m\u001b[1;32m   1748\u001b[0m \u001b[0;34m\u001b[0m\u001b[0m\n\u001b[1;32m   1749\u001b[0m         \u001b[0mresult\u001b[0m \u001b[0;34m=\u001b[0m \u001b[0;32mNone\u001b[0m\u001b[0;34m\u001b[0m\u001b[0;34m\u001b[0m\u001b[0m\n",
            "\u001b[0;32m/usr/local/lib/python3.11/dist-packages/transformers/models/bert/modeling_bert.py\u001b[0m in \u001b[0;36mforward\u001b[0;34m(self, input_ids, attention_mask, token_type_ids, position_ids, head_mask, inputs_embeds, encoder_hidden_states, encoder_attention_mask, labels, output_attentions, output_hidden_states, return_dict)\u001b[0m\n\u001b[1;32m   1459\u001b[0m         \u001b[0mreturn_dict\u001b[0m \u001b[0;34m=\u001b[0m \u001b[0mreturn_dict\u001b[0m \u001b[0;32mif\u001b[0m \u001b[0mreturn_dict\u001b[0m \u001b[0;32mis\u001b[0m \u001b[0;32mnot\u001b[0m \u001b[0;32mNone\u001b[0m \u001b[0;32melse\u001b[0m \u001b[0mself\u001b[0m\u001b[0;34m.\u001b[0m\u001b[0mconfig\u001b[0m\u001b[0;34m.\u001b[0m\u001b[0muse_return_dict\u001b[0m\u001b[0;34m\u001b[0m\u001b[0;34m\u001b[0m\u001b[0m\n\u001b[1;32m   1460\u001b[0m \u001b[0;34m\u001b[0m\u001b[0m\n\u001b[0;32m-> 1461\u001b[0;31m         outputs = self.bert(\n\u001b[0m\u001b[1;32m   1462\u001b[0m             \u001b[0minput_ids\u001b[0m\u001b[0;34m,\u001b[0m\u001b[0;34m\u001b[0m\u001b[0;34m\u001b[0m\u001b[0m\n\u001b[1;32m   1463\u001b[0m             \u001b[0mattention_mask\u001b[0m\u001b[0;34m=\u001b[0m\u001b[0mattention_mask\u001b[0m\u001b[0;34m,\u001b[0m\u001b[0;34m\u001b[0m\u001b[0;34m\u001b[0m\u001b[0m\n",
            "\u001b[0;32m/usr/local/lib/python3.11/dist-packages/torch/nn/modules/module.py\u001b[0m in \u001b[0;36m_wrapped_call_impl\u001b[0;34m(self, *args, **kwargs)\u001b[0m\n\u001b[1;32m   1734\u001b[0m             \u001b[0;32mreturn\u001b[0m \u001b[0mself\u001b[0m\u001b[0;34m.\u001b[0m\u001b[0m_compiled_call_impl\u001b[0m\u001b[0;34m(\u001b[0m\u001b[0;34m*\u001b[0m\u001b[0margs\u001b[0m\u001b[0;34m,\u001b[0m \u001b[0;34m**\u001b[0m\u001b[0mkwargs\u001b[0m\u001b[0;34m)\u001b[0m  \u001b[0;31m# type: ignore[misc]\u001b[0m\u001b[0;34m\u001b[0m\u001b[0;34m\u001b[0m\u001b[0m\n\u001b[1;32m   1735\u001b[0m         \u001b[0;32melse\u001b[0m\u001b[0;34m:\u001b[0m\u001b[0;34m\u001b[0m\u001b[0;34m\u001b[0m\u001b[0m\n\u001b[0;32m-> 1736\u001b[0;31m             \u001b[0;32mreturn\u001b[0m \u001b[0mself\u001b[0m\u001b[0;34m.\u001b[0m\u001b[0m_call_impl\u001b[0m\u001b[0;34m(\u001b[0m\u001b[0;34m*\u001b[0m\u001b[0margs\u001b[0m\u001b[0;34m,\u001b[0m \u001b[0;34m**\u001b[0m\u001b[0mkwargs\u001b[0m\u001b[0;34m)\u001b[0m\u001b[0;34m\u001b[0m\u001b[0;34m\u001b[0m\u001b[0m\n\u001b[0m\u001b[1;32m   1737\u001b[0m \u001b[0;34m\u001b[0m\u001b[0m\n\u001b[1;32m   1738\u001b[0m     \u001b[0;31m# torchrec tests the code consistency with the following code\u001b[0m\u001b[0;34m\u001b[0m\u001b[0;34m\u001b[0m\u001b[0m\n",
            "\u001b[0;32m/usr/local/lib/python3.11/dist-packages/torch/nn/modules/module.py\u001b[0m in \u001b[0;36m_call_impl\u001b[0;34m(self, *args, **kwargs)\u001b[0m\n\u001b[1;32m   1745\u001b[0m                 \u001b[0;32mor\u001b[0m \u001b[0m_global_backward_pre_hooks\u001b[0m \u001b[0;32mor\u001b[0m \u001b[0m_global_backward_hooks\u001b[0m\u001b[0;34m\u001b[0m\u001b[0;34m\u001b[0m\u001b[0m\n\u001b[1;32m   1746\u001b[0m                 or _global_forward_hooks or _global_forward_pre_hooks):\n\u001b[0;32m-> 1747\u001b[0;31m             \u001b[0;32mreturn\u001b[0m \u001b[0mforward_call\u001b[0m\u001b[0;34m(\u001b[0m\u001b[0;34m*\u001b[0m\u001b[0margs\u001b[0m\u001b[0;34m,\u001b[0m \u001b[0;34m**\u001b[0m\u001b[0mkwargs\u001b[0m\u001b[0;34m)\u001b[0m\u001b[0;34m\u001b[0m\u001b[0;34m\u001b[0m\u001b[0m\n\u001b[0m\u001b[1;32m   1748\u001b[0m \u001b[0;34m\u001b[0m\u001b[0m\n\u001b[1;32m   1749\u001b[0m         \u001b[0mresult\u001b[0m \u001b[0;34m=\u001b[0m \u001b[0;32mNone\u001b[0m\u001b[0;34m\u001b[0m\u001b[0;34m\u001b[0m\u001b[0m\n",
            "\u001b[0;32m/usr/local/lib/python3.11/dist-packages/transformers/models/bert/modeling_bert.py\u001b[0m in \u001b[0;36mforward\u001b[0;34m(self, input_ids, attention_mask, token_type_ids, position_ids, head_mask, inputs_embeds, encoder_hidden_states, encoder_attention_mask, past_key_values, use_cache, output_attentions, output_hidden_states, return_dict)\u001b[0m\n\u001b[1;32m   1140\u001b[0m         \u001b[0mhead_mask\u001b[0m \u001b[0;34m=\u001b[0m \u001b[0mself\u001b[0m\u001b[0;34m.\u001b[0m\u001b[0mget_head_mask\u001b[0m\u001b[0;34m(\u001b[0m\u001b[0mhead_mask\u001b[0m\u001b[0;34m,\u001b[0m \u001b[0mself\u001b[0m\u001b[0;34m.\u001b[0m\u001b[0mconfig\u001b[0m\u001b[0;34m.\u001b[0m\u001b[0mnum_hidden_layers\u001b[0m\u001b[0;34m)\u001b[0m\u001b[0;34m\u001b[0m\u001b[0;34m\u001b[0m\u001b[0m\n\u001b[1;32m   1141\u001b[0m \u001b[0;34m\u001b[0m\u001b[0m\n\u001b[0;32m-> 1142\u001b[0;31m         encoder_outputs = self.encoder(\n\u001b[0m\u001b[1;32m   1143\u001b[0m             \u001b[0membedding_output\u001b[0m\u001b[0;34m,\u001b[0m\u001b[0;34m\u001b[0m\u001b[0;34m\u001b[0m\u001b[0m\n\u001b[1;32m   1144\u001b[0m             \u001b[0mattention_mask\u001b[0m\u001b[0;34m=\u001b[0m\u001b[0mextended_attention_mask\u001b[0m\u001b[0;34m,\u001b[0m\u001b[0;34m\u001b[0m\u001b[0;34m\u001b[0m\u001b[0m\n",
            "\u001b[0;32m/usr/local/lib/python3.11/dist-packages/torch/nn/modules/module.py\u001b[0m in \u001b[0;36m_wrapped_call_impl\u001b[0;34m(self, *args, **kwargs)\u001b[0m\n\u001b[1;32m   1734\u001b[0m             \u001b[0;32mreturn\u001b[0m \u001b[0mself\u001b[0m\u001b[0;34m.\u001b[0m\u001b[0m_compiled_call_impl\u001b[0m\u001b[0;34m(\u001b[0m\u001b[0;34m*\u001b[0m\u001b[0margs\u001b[0m\u001b[0;34m,\u001b[0m \u001b[0;34m**\u001b[0m\u001b[0mkwargs\u001b[0m\u001b[0;34m)\u001b[0m  \u001b[0;31m# type: ignore[misc]\u001b[0m\u001b[0;34m\u001b[0m\u001b[0;34m\u001b[0m\u001b[0m\n\u001b[1;32m   1735\u001b[0m         \u001b[0;32melse\u001b[0m\u001b[0;34m:\u001b[0m\u001b[0;34m\u001b[0m\u001b[0;34m\u001b[0m\u001b[0m\n\u001b[0;32m-> 1736\u001b[0;31m             \u001b[0;32mreturn\u001b[0m \u001b[0mself\u001b[0m\u001b[0;34m.\u001b[0m\u001b[0m_call_impl\u001b[0m\u001b[0;34m(\u001b[0m\u001b[0;34m*\u001b[0m\u001b[0margs\u001b[0m\u001b[0;34m,\u001b[0m \u001b[0;34m**\u001b[0m\u001b[0mkwargs\u001b[0m\u001b[0;34m)\u001b[0m\u001b[0;34m\u001b[0m\u001b[0;34m\u001b[0m\u001b[0m\n\u001b[0m\u001b[1;32m   1737\u001b[0m \u001b[0;34m\u001b[0m\u001b[0m\n\u001b[1;32m   1738\u001b[0m     \u001b[0;31m# torchrec tests the code consistency with the following code\u001b[0m\u001b[0;34m\u001b[0m\u001b[0;34m\u001b[0m\u001b[0m\n",
            "\u001b[0;32m/usr/local/lib/python3.11/dist-packages/torch/nn/modules/module.py\u001b[0m in \u001b[0;36m_call_impl\u001b[0;34m(self, *args, **kwargs)\u001b[0m\n\u001b[1;32m   1745\u001b[0m                 \u001b[0;32mor\u001b[0m \u001b[0m_global_backward_pre_hooks\u001b[0m \u001b[0;32mor\u001b[0m \u001b[0m_global_backward_hooks\u001b[0m\u001b[0;34m\u001b[0m\u001b[0;34m\u001b[0m\u001b[0m\n\u001b[1;32m   1746\u001b[0m                 or _global_forward_hooks or _global_forward_pre_hooks):\n\u001b[0;32m-> 1747\u001b[0;31m             \u001b[0;32mreturn\u001b[0m \u001b[0mforward_call\u001b[0m\u001b[0;34m(\u001b[0m\u001b[0;34m*\u001b[0m\u001b[0margs\u001b[0m\u001b[0;34m,\u001b[0m \u001b[0;34m**\u001b[0m\u001b[0mkwargs\u001b[0m\u001b[0;34m)\u001b[0m\u001b[0;34m\u001b[0m\u001b[0;34m\u001b[0m\u001b[0m\n\u001b[0m\u001b[1;32m   1748\u001b[0m \u001b[0;34m\u001b[0m\u001b[0m\n\u001b[1;32m   1749\u001b[0m         \u001b[0mresult\u001b[0m \u001b[0;34m=\u001b[0m \u001b[0;32mNone\u001b[0m\u001b[0;34m\u001b[0m\u001b[0;34m\u001b[0m\u001b[0m\n",
            "\u001b[0;32m/usr/local/lib/python3.11/dist-packages/transformers/models/bert/modeling_bert.py\u001b[0m in \u001b[0;36mforward\u001b[0;34m(self, hidden_states, attention_mask, head_mask, encoder_hidden_states, encoder_attention_mask, past_key_values, use_cache, output_attentions, output_hidden_states, return_dict)\u001b[0m\n\u001b[1;32m    693\u001b[0m                 )\n\u001b[1;32m    694\u001b[0m             \u001b[0;32melse\u001b[0m\u001b[0;34m:\u001b[0m\u001b[0;34m\u001b[0m\u001b[0;34m\u001b[0m\u001b[0m\n\u001b[0;32m--> 695\u001b[0;31m                 layer_outputs = layer_module(\n\u001b[0m\u001b[1;32m    696\u001b[0m                     \u001b[0mhidden_states\u001b[0m\u001b[0;34m,\u001b[0m\u001b[0;34m\u001b[0m\u001b[0;34m\u001b[0m\u001b[0m\n\u001b[1;32m    697\u001b[0m                     \u001b[0mattention_mask\u001b[0m\u001b[0;34m,\u001b[0m\u001b[0;34m\u001b[0m\u001b[0;34m\u001b[0m\u001b[0m\n",
            "\u001b[0;32m/usr/local/lib/python3.11/dist-packages/torch/nn/modules/module.py\u001b[0m in \u001b[0;36m_wrapped_call_impl\u001b[0;34m(self, *args, **kwargs)\u001b[0m\n\u001b[1;32m   1734\u001b[0m             \u001b[0;32mreturn\u001b[0m \u001b[0mself\u001b[0m\u001b[0;34m.\u001b[0m\u001b[0m_compiled_call_impl\u001b[0m\u001b[0;34m(\u001b[0m\u001b[0;34m*\u001b[0m\u001b[0margs\u001b[0m\u001b[0;34m,\u001b[0m \u001b[0;34m**\u001b[0m\u001b[0mkwargs\u001b[0m\u001b[0;34m)\u001b[0m  \u001b[0;31m# type: ignore[misc]\u001b[0m\u001b[0;34m\u001b[0m\u001b[0;34m\u001b[0m\u001b[0m\n\u001b[1;32m   1735\u001b[0m         \u001b[0;32melse\u001b[0m\u001b[0;34m:\u001b[0m\u001b[0;34m\u001b[0m\u001b[0;34m\u001b[0m\u001b[0m\n\u001b[0;32m-> 1736\u001b[0;31m             \u001b[0;32mreturn\u001b[0m \u001b[0mself\u001b[0m\u001b[0;34m.\u001b[0m\u001b[0m_call_impl\u001b[0m\u001b[0;34m(\u001b[0m\u001b[0;34m*\u001b[0m\u001b[0margs\u001b[0m\u001b[0;34m,\u001b[0m \u001b[0;34m**\u001b[0m\u001b[0mkwargs\u001b[0m\u001b[0;34m)\u001b[0m\u001b[0;34m\u001b[0m\u001b[0;34m\u001b[0m\u001b[0m\n\u001b[0m\u001b[1;32m   1737\u001b[0m \u001b[0;34m\u001b[0m\u001b[0m\n\u001b[1;32m   1738\u001b[0m     \u001b[0;31m# torchrec tests the code consistency with the following code\u001b[0m\u001b[0;34m\u001b[0m\u001b[0;34m\u001b[0m\u001b[0m\n",
            "\u001b[0;32m/usr/local/lib/python3.11/dist-packages/torch/nn/modules/module.py\u001b[0m in \u001b[0;36m_call_impl\u001b[0;34m(self, *args, **kwargs)\u001b[0m\n\u001b[1;32m   1745\u001b[0m                 \u001b[0;32mor\u001b[0m \u001b[0m_global_backward_pre_hooks\u001b[0m \u001b[0;32mor\u001b[0m \u001b[0m_global_backward_hooks\u001b[0m\u001b[0;34m\u001b[0m\u001b[0;34m\u001b[0m\u001b[0m\n\u001b[1;32m   1746\u001b[0m                 or _global_forward_hooks or _global_forward_pre_hooks):\n\u001b[0;32m-> 1747\u001b[0;31m             \u001b[0;32mreturn\u001b[0m \u001b[0mforward_call\u001b[0m\u001b[0;34m(\u001b[0m\u001b[0;34m*\u001b[0m\u001b[0margs\u001b[0m\u001b[0;34m,\u001b[0m \u001b[0;34m**\u001b[0m\u001b[0mkwargs\u001b[0m\u001b[0;34m)\u001b[0m\u001b[0;34m\u001b[0m\u001b[0;34m\u001b[0m\u001b[0m\n\u001b[0m\u001b[1;32m   1748\u001b[0m \u001b[0;34m\u001b[0m\u001b[0m\n\u001b[1;32m   1749\u001b[0m         \u001b[0mresult\u001b[0m \u001b[0;34m=\u001b[0m \u001b[0;32mNone\u001b[0m\u001b[0;34m\u001b[0m\u001b[0;34m\u001b[0m\u001b[0m\n",
            "\u001b[0;32m/usr/local/lib/python3.11/dist-packages/transformers/models/bert/modeling_bert.py\u001b[0m in \u001b[0;36mforward\u001b[0;34m(self, hidden_states, attention_mask, head_mask, encoder_hidden_states, encoder_attention_mask, past_key_value, output_attentions)\u001b[0m\n\u001b[1;32m    625\u001b[0m             \u001b[0mpresent_key_value\u001b[0m \u001b[0;34m=\u001b[0m \u001b[0mpresent_key_value\u001b[0m \u001b[0;34m+\u001b[0m \u001b[0mcross_attn_present_key_value\u001b[0m\u001b[0;34m\u001b[0m\u001b[0;34m\u001b[0m\u001b[0m\n\u001b[1;32m    626\u001b[0m \u001b[0;34m\u001b[0m\u001b[0m\n\u001b[0;32m--> 627\u001b[0;31m         layer_output = apply_chunking_to_forward(\n\u001b[0m\u001b[1;32m    628\u001b[0m             \u001b[0mself\u001b[0m\u001b[0;34m.\u001b[0m\u001b[0mfeed_forward_chunk\u001b[0m\u001b[0;34m,\u001b[0m \u001b[0mself\u001b[0m\u001b[0;34m.\u001b[0m\u001b[0mchunk_size_feed_forward\u001b[0m\u001b[0;34m,\u001b[0m \u001b[0mself\u001b[0m\u001b[0;34m.\u001b[0m\u001b[0mseq_len_dim\u001b[0m\u001b[0;34m,\u001b[0m \u001b[0mattention_output\u001b[0m\u001b[0;34m\u001b[0m\u001b[0;34m\u001b[0m\u001b[0m\n\u001b[1;32m    629\u001b[0m         )\n",
            "\u001b[0;32m/usr/local/lib/python3.11/dist-packages/transformers/pytorch_utils.py\u001b[0m in \u001b[0;36mapply_chunking_to_forward\u001b[0;34m(forward_fn, chunk_size, chunk_dim, *input_tensors)\u001b[0m\n\u001b[1;32m    256\u001b[0m         \u001b[0;32mreturn\u001b[0m \u001b[0mtorch\u001b[0m\u001b[0;34m.\u001b[0m\u001b[0mcat\u001b[0m\u001b[0;34m(\u001b[0m\u001b[0moutput_chunks\u001b[0m\u001b[0;34m,\u001b[0m \u001b[0mdim\u001b[0m\u001b[0;34m=\u001b[0m\u001b[0mchunk_dim\u001b[0m\u001b[0;34m)\u001b[0m\u001b[0;34m\u001b[0m\u001b[0;34m\u001b[0m\u001b[0m\n\u001b[1;32m    257\u001b[0m \u001b[0;34m\u001b[0m\u001b[0m\n\u001b[0;32m--> 258\u001b[0;31m     \u001b[0;32mreturn\u001b[0m \u001b[0mforward_fn\u001b[0m\u001b[0;34m(\u001b[0m\u001b[0;34m*\u001b[0m\u001b[0minput_tensors\u001b[0m\u001b[0;34m)\u001b[0m\u001b[0;34m\u001b[0m\u001b[0;34m\u001b[0m\u001b[0m\n\u001b[0m\u001b[1;32m    259\u001b[0m \u001b[0;34m\u001b[0m\u001b[0m\n\u001b[1;32m    260\u001b[0m \u001b[0;34m\u001b[0m\u001b[0m\n",
            "\u001b[0;32m/usr/local/lib/python3.11/dist-packages/transformers/models/bert/modeling_bert.py\u001b[0m in \u001b[0;36mfeed_forward_chunk\u001b[0;34m(self, attention_output)\u001b[0m\n\u001b[1;32m    637\u001b[0m \u001b[0;34m\u001b[0m\u001b[0m\n\u001b[1;32m    638\u001b[0m     \u001b[0;32mdef\u001b[0m \u001b[0mfeed_forward_chunk\u001b[0m\u001b[0;34m(\u001b[0m\u001b[0mself\u001b[0m\u001b[0;34m,\u001b[0m \u001b[0mattention_output\u001b[0m\u001b[0;34m)\u001b[0m\u001b[0;34m:\u001b[0m\u001b[0;34m\u001b[0m\u001b[0;34m\u001b[0m\u001b[0m\n\u001b[0;32m--> 639\u001b[0;31m         \u001b[0mintermediate_output\u001b[0m \u001b[0;34m=\u001b[0m \u001b[0mself\u001b[0m\u001b[0;34m.\u001b[0m\u001b[0mintermediate\u001b[0m\u001b[0;34m(\u001b[0m\u001b[0mattention_output\u001b[0m\u001b[0;34m)\u001b[0m\u001b[0;34m\u001b[0m\u001b[0;34m\u001b[0m\u001b[0m\n\u001b[0m\u001b[1;32m    640\u001b[0m         \u001b[0mlayer_output\u001b[0m \u001b[0;34m=\u001b[0m \u001b[0mself\u001b[0m\u001b[0;34m.\u001b[0m\u001b[0moutput\u001b[0m\u001b[0;34m(\u001b[0m\u001b[0mintermediate_output\u001b[0m\u001b[0;34m,\u001b[0m \u001b[0mattention_output\u001b[0m\u001b[0;34m)\u001b[0m\u001b[0;34m\u001b[0m\u001b[0;34m\u001b[0m\u001b[0m\n\u001b[1;32m    641\u001b[0m         \u001b[0;32mreturn\u001b[0m \u001b[0mlayer_output\u001b[0m\u001b[0;34m\u001b[0m\u001b[0;34m\u001b[0m\u001b[0m\n",
            "\u001b[0;32m/usr/local/lib/python3.11/dist-packages/torch/nn/modules/module.py\u001b[0m in \u001b[0;36m_wrapped_call_impl\u001b[0;34m(self, *args, **kwargs)\u001b[0m\n\u001b[1;32m   1734\u001b[0m             \u001b[0;32mreturn\u001b[0m \u001b[0mself\u001b[0m\u001b[0;34m.\u001b[0m\u001b[0m_compiled_call_impl\u001b[0m\u001b[0;34m(\u001b[0m\u001b[0;34m*\u001b[0m\u001b[0margs\u001b[0m\u001b[0;34m,\u001b[0m \u001b[0;34m**\u001b[0m\u001b[0mkwargs\u001b[0m\u001b[0;34m)\u001b[0m  \u001b[0;31m# type: ignore[misc]\u001b[0m\u001b[0;34m\u001b[0m\u001b[0;34m\u001b[0m\u001b[0m\n\u001b[1;32m   1735\u001b[0m         \u001b[0;32melse\u001b[0m\u001b[0;34m:\u001b[0m\u001b[0;34m\u001b[0m\u001b[0;34m\u001b[0m\u001b[0m\n\u001b[0;32m-> 1736\u001b[0;31m             \u001b[0;32mreturn\u001b[0m \u001b[0mself\u001b[0m\u001b[0;34m.\u001b[0m\u001b[0m_call_impl\u001b[0m\u001b[0;34m(\u001b[0m\u001b[0;34m*\u001b[0m\u001b[0margs\u001b[0m\u001b[0;34m,\u001b[0m \u001b[0;34m**\u001b[0m\u001b[0mkwargs\u001b[0m\u001b[0;34m)\u001b[0m\u001b[0;34m\u001b[0m\u001b[0;34m\u001b[0m\u001b[0m\n\u001b[0m\u001b[1;32m   1737\u001b[0m \u001b[0;34m\u001b[0m\u001b[0m\n\u001b[1;32m   1738\u001b[0m     \u001b[0;31m# torchrec tests the code consistency with the following code\u001b[0m\u001b[0;34m\u001b[0m\u001b[0;34m\u001b[0m\u001b[0m\n",
            "\u001b[0;32m/usr/local/lib/python3.11/dist-packages/torch/nn/modules/module.py\u001b[0m in \u001b[0;36m_call_impl\u001b[0;34m(self, *args, **kwargs)\u001b[0m\n\u001b[1;32m   1745\u001b[0m                 \u001b[0;32mor\u001b[0m \u001b[0m_global_backward_pre_hooks\u001b[0m \u001b[0;32mor\u001b[0m \u001b[0m_global_backward_hooks\u001b[0m\u001b[0;34m\u001b[0m\u001b[0;34m\u001b[0m\u001b[0m\n\u001b[1;32m   1746\u001b[0m                 or _global_forward_hooks or _global_forward_pre_hooks):\n\u001b[0;32m-> 1747\u001b[0;31m             \u001b[0;32mreturn\u001b[0m \u001b[0mforward_call\u001b[0m\u001b[0;34m(\u001b[0m\u001b[0;34m*\u001b[0m\u001b[0margs\u001b[0m\u001b[0;34m,\u001b[0m \u001b[0;34m**\u001b[0m\u001b[0mkwargs\u001b[0m\u001b[0;34m)\u001b[0m\u001b[0;34m\u001b[0m\u001b[0;34m\u001b[0m\u001b[0m\n\u001b[0m\u001b[1;32m   1748\u001b[0m \u001b[0;34m\u001b[0m\u001b[0m\n\u001b[1;32m   1749\u001b[0m         \u001b[0mresult\u001b[0m \u001b[0;34m=\u001b[0m \u001b[0;32mNone\u001b[0m\u001b[0;34m\u001b[0m\u001b[0;34m\u001b[0m\u001b[0m\n",
            "\u001b[0;32m/usr/local/lib/python3.11/dist-packages/transformers/models/bert/modeling_bert.py\u001b[0m in \u001b[0;36mforward\u001b[0;34m(self, hidden_states)\u001b[0m\n\u001b[1;32m    538\u001b[0m     \u001b[0;32mdef\u001b[0m \u001b[0mforward\u001b[0m\u001b[0;34m(\u001b[0m\u001b[0mself\u001b[0m\u001b[0;34m,\u001b[0m \u001b[0mhidden_states\u001b[0m\u001b[0;34m:\u001b[0m \u001b[0mtorch\u001b[0m\u001b[0;34m.\u001b[0m\u001b[0mTensor\u001b[0m\u001b[0;34m)\u001b[0m \u001b[0;34m->\u001b[0m \u001b[0mtorch\u001b[0m\u001b[0;34m.\u001b[0m\u001b[0mTensor\u001b[0m\u001b[0;34m:\u001b[0m\u001b[0;34m\u001b[0m\u001b[0;34m\u001b[0m\u001b[0m\n\u001b[1;32m    539\u001b[0m         \u001b[0mhidden_states\u001b[0m \u001b[0;34m=\u001b[0m \u001b[0mself\u001b[0m\u001b[0;34m.\u001b[0m\u001b[0mdense\u001b[0m\u001b[0;34m(\u001b[0m\u001b[0mhidden_states\u001b[0m\u001b[0;34m)\u001b[0m\u001b[0;34m\u001b[0m\u001b[0;34m\u001b[0m\u001b[0m\n\u001b[0;32m--> 540\u001b[0;31m         \u001b[0mhidden_states\u001b[0m \u001b[0;34m=\u001b[0m \u001b[0mself\u001b[0m\u001b[0;34m.\u001b[0m\u001b[0mintermediate_act_fn\u001b[0m\u001b[0;34m(\u001b[0m\u001b[0mhidden_states\u001b[0m\u001b[0;34m)\u001b[0m\u001b[0;34m\u001b[0m\u001b[0;34m\u001b[0m\u001b[0m\n\u001b[0m\u001b[1;32m    541\u001b[0m         \u001b[0;32mreturn\u001b[0m \u001b[0mhidden_states\u001b[0m\u001b[0;34m\u001b[0m\u001b[0;34m\u001b[0m\u001b[0m\n\u001b[1;32m    542\u001b[0m \u001b[0;34m\u001b[0m\u001b[0m\n",
            "\u001b[0;32m/usr/local/lib/python3.11/dist-packages/torch/nn/modules/module.py\u001b[0m in \u001b[0;36m_wrapped_call_impl\u001b[0;34m(self, *args, **kwargs)\u001b[0m\n\u001b[1;32m   1734\u001b[0m             \u001b[0;32mreturn\u001b[0m \u001b[0mself\u001b[0m\u001b[0;34m.\u001b[0m\u001b[0m_compiled_call_impl\u001b[0m\u001b[0;34m(\u001b[0m\u001b[0;34m*\u001b[0m\u001b[0margs\u001b[0m\u001b[0;34m,\u001b[0m \u001b[0;34m**\u001b[0m\u001b[0mkwargs\u001b[0m\u001b[0;34m)\u001b[0m  \u001b[0;31m# type: ignore[misc]\u001b[0m\u001b[0;34m\u001b[0m\u001b[0;34m\u001b[0m\u001b[0m\n\u001b[1;32m   1735\u001b[0m         \u001b[0;32melse\u001b[0m\u001b[0;34m:\u001b[0m\u001b[0;34m\u001b[0m\u001b[0;34m\u001b[0m\u001b[0m\n\u001b[0;32m-> 1736\u001b[0;31m             \u001b[0;32mreturn\u001b[0m \u001b[0mself\u001b[0m\u001b[0;34m.\u001b[0m\u001b[0m_call_impl\u001b[0m\u001b[0;34m(\u001b[0m\u001b[0;34m*\u001b[0m\u001b[0margs\u001b[0m\u001b[0;34m,\u001b[0m \u001b[0;34m**\u001b[0m\u001b[0mkwargs\u001b[0m\u001b[0;34m)\u001b[0m\u001b[0;34m\u001b[0m\u001b[0;34m\u001b[0m\u001b[0m\n\u001b[0m\u001b[1;32m   1737\u001b[0m \u001b[0;34m\u001b[0m\u001b[0m\n\u001b[1;32m   1738\u001b[0m     \u001b[0;31m# torchrec tests the code consistency with the following code\u001b[0m\u001b[0;34m\u001b[0m\u001b[0;34m\u001b[0m\u001b[0m\n",
            "\u001b[0;32m/usr/local/lib/python3.11/dist-packages/torch/nn/modules/module.py\u001b[0m in \u001b[0;36m_call_impl\u001b[0;34m(self, *args, **kwargs)\u001b[0m\n\u001b[1;32m   1745\u001b[0m                 \u001b[0;32mor\u001b[0m \u001b[0m_global_backward_pre_hooks\u001b[0m \u001b[0;32mor\u001b[0m \u001b[0m_global_backward_hooks\u001b[0m\u001b[0;34m\u001b[0m\u001b[0;34m\u001b[0m\u001b[0m\n\u001b[1;32m   1746\u001b[0m                 or _global_forward_hooks or _global_forward_pre_hooks):\n\u001b[0;32m-> 1747\u001b[0;31m             \u001b[0;32mreturn\u001b[0m \u001b[0mforward_call\u001b[0m\u001b[0;34m(\u001b[0m\u001b[0;34m*\u001b[0m\u001b[0margs\u001b[0m\u001b[0;34m,\u001b[0m \u001b[0;34m**\u001b[0m\u001b[0mkwargs\u001b[0m\u001b[0;34m)\u001b[0m\u001b[0;34m\u001b[0m\u001b[0;34m\u001b[0m\u001b[0m\n\u001b[0m\u001b[1;32m   1748\u001b[0m \u001b[0;34m\u001b[0m\u001b[0m\n\u001b[1;32m   1749\u001b[0m         \u001b[0mresult\u001b[0m \u001b[0;34m=\u001b[0m \u001b[0;32mNone\u001b[0m\u001b[0;34m\u001b[0m\u001b[0;34m\u001b[0m\u001b[0m\n",
            "\u001b[0;32m/usr/local/lib/python3.11/dist-packages/transformers/activations.py\u001b[0m in \u001b[0;36mforward\u001b[0;34m(self, input)\u001b[0m\n\u001b[1;32m     76\u001b[0m \u001b[0;34m\u001b[0m\u001b[0m\n\u001b[1;32m     77\u001b[0m     \u001b[0;32mdef\u001b[0m \u001b[0mforward\u001b[0m\u001b[0;34m(\u001b[0m\u001b[0mself\u001b[0m\u001b[0;34m,\u001b[0m \u001b[0minput\u001b[0m\u001b[0;34m:\u001b[0m \u001b[0mTensor\u001b[0m\u001b[0;34m)\u001b[0m \u001b[0;34m->\u001b[0m \u001b[0mTensor\u001b[0m\u001b[0;34m:\u001b[0m\u001b[0;34m\u001b[0m\u001b[0;34m\u001b[0m\u001b[0m\n\u001b[0;32m---> 78\u001b[0;31m         \u001b[0;32mreturn\u001b[0m \u001b[0mself\u001b[0m\u001b[0;34m.\u001b[0m\u001b[0mact\u001b[0m\u001b[0;34m(\u001b[0m\u001b[0minput\u001b[0m\u001b[0;34m)\u001b[0m\u001b[0;34m\u001b[0m\u001b[0;34m\u001b[0m\u001b[0m\n\u001b[0m\u001b[1;32m     79\u001b[0m \u001b[0;34m\u001b[0m\u001b[0m\n\u001b[1;32m     80\u001b[0m \u001b[0;34m\u001b[0m\u001b[0m\n",
            "\u001b[0;31mKeyboardInterrupt\u001b[0m: "
          ]
        }
      ]
    },
    {
      "cell_type": "markdown",
      "source": [
        "Takes about 3.5 minutes to process a single game.\n",
        "\n",
        "Will take about 50 hours to process in total"
      ],
      "metadata": {
        "id": "1VhOKwfRdB5q"
      }
    },
    {
      "cell_type": "markdown",
      "source": [
        "**Some Problems:**"
      ],
      "metadata": {
        "id": "aZFsqLzgeOk0"
      }
    },
    {
      "cell_type": "markdown",
      "source": [
        "It is not picking up the downs. I either need to not base it off of the blank line OR I need to refine the splitting up of plays somehow."
      ],
      "metadata": {
        "id": "AR17NdKBgDGU"
      }
    },
    {
      "cell_type": "code",
      "source": [
        "    {\n",
        "        \"transcript\": \"first down at the ranked by both teams combined down Jamal Lewis and Barrow was there boy what a rookie rusher Jamal Lewis has been came out of Tennessee firstround draft pick of the Baltimore Ravens over 1,300 yards rushing and six touchdowns 16 hundred and 60 total yards this year for Baltimore what a tough thing for a rookie come in Greg to have all those carries and with his running style makes it even more impressive because he doesn't like run away from hits he looks for that punishment likes to deliver the blow the defender and that's why he's such a good runner now rules it out of bounds with a little violence courtesy of the New York giant now the one thing you got to do Trent Dilfer trying to find a wide receiver open down the field but try not to take these extra hits it begin Jessie Armstead and Michael Barrow get to Trent Dilfer that time but what I was going to say earlier Greg Trent Dilfer\",\n",
        "        \"down\": \".\",\n",
        "        \"yrdln\": \".\",\n",
        "        \"play_type\": \"running\",\n",
        "        \"yards_gained\": \"300 yards\"\n",
        "    }"
      ],
      "metadata": {
        "id": "aLkOBATxeNIQ"
      },
      "execution_count": null,
      "outputs": []
    },
    {
      "cell_type": "markdown",
      "source": [
        "Problem: Commentators talking about year long play stats.\n",
        "\n",
        "Solution: Limit number to 100 for yards_gained"
      ],
      "metadata": {
        "id": "wZn4vvSjeSa5"
      }
    },
    {
      "cell_type": "code",
      "source": [
        "    {\n",
        "        \"transcript\": \"third down throwing is by far the hardest thing for quarterback let's see what it looks like to Trent Dilfer defensive lineman in front of him we go around steps up nice throw in Lane finds the open spot and picks out Patrick Johnson on the outside the third\",\n",
        "        \"down\": \".\",\n",
        "        \"yrdln\": \".\",\n",
        "        \"play_type\": \"throw\",\n",
        "        \"yards_gained\": \"picks out\"\n",
        "    }"
      ],
      "metadata": {
        "id": "ULWXDRaOe7PU"
      },
      "execution_count": null,
      "outputs": []
    },
    {
      "cell_type": "markdown",
      "source": [
        "Problem: Why did this get picked up?"
      ],
      "metadata": {
        "id": "o2qI3IKhe8yC"
      }
    },
    {
      "cell_type": "code",
      "source": [
        "    {\n",
        "        \"transcript\": \"first down barbar up together and to the 42yard line before he is brought down Cory Harris Ray Lewis with the tackle but the Giants will have to kick it away well the Giants changed field position they've moved it down they got a chance to pin the Baltimore Ravens to see deep defense you got to go out there do your job and get the football back to the to your offense in good field position Brad Maynard will kick it away Jermaine Lewis stands at his own 10 yard line Bearcats ball for and made at the 11 or 12\",\n",
        "        \"down\": \".\",\n",
        "        \"yrdln\": \"42\",\n",
        "        \"play_type\": \"kick\",\n",
        "        \"yards_gained\": \"42yard\"\n",
        "    },"
      ],
      "metadata": {
        "id": "t61tAtTAf-uM"
      },
      "execution_count": null,
      "outputs": []
    },
    {
      "cell_type": "markdown",
      "source": [
        "Problem: Confusing yardline and yards gained\n",
        "\n",
        "Solution: Refine regex, create a few more rules"
      ],
      "metadata": {
        "id": "M7sXYteRgAaA"
      }
    },
    {
      "cell_type": "code",
      "source": [
        "    {\n",
        "        \"transcript\": \"first down its defensive back Ramos MacDonald from the seven and a half yard line the Giants on\",\n",
        "        \"down\": \".\",\n",
        "        \"yrdln\": \"half\",\n",
        "        \"play_type\": \".\",\n",
        "        \"yards_gained\": \"half yard\"\n",
        "    }"
      ],
      "metadata": {
        "id": "gflawbbdghEB"
      },
      "execution_count": null,
      "outputs": []
    },
    {
      "cell_type": "markdown",
      "source": [
        "Problem: Conflating of yardline and yards gained as well as, word description of yard and a half\n",
        "\n",
        "Solution: refine yardline and yards_gained regex"
      ],
      "metadata": {
        "id": "AX2SCwrOgx7h"
      }
    },
    {
      "cell_type": "code",
      "source": [
        "    {\n",
        "        \"transcript\": \"third down is by far the hardest thing for quarterback the National Football League when you play for a team that runs it like Baltimore does he's talking to ghosts I really enjoy throwing the football on third downs and they'll just go well you really have settled into that job up there in Baltimore worldwide was here flips no further staff the Giants told us this week they liked the matchup of Michael Strahan on the right side against Harry Swain well we actually asked the Baltimore Ravens what scares you in the football game they said hey Harry Swain against Michael Strahan so we expected to see him doubleteam most the time that time he was singled up he gets a sack Tiki Barber to take the\",\n",
        "        \"down\": \".\",\n",
        "        \"yrdln\": \".\",\n",
        "        \"play_type\": \"runs\",\n",
        "        \"yards_gained\": \"gets a\"\n",
        "    }"
      ],
      "metadata": {
        "id": "yJXSWcbzhdFT"
      },
      "execution_count": null,
      "outputs": []
    },
    {
      "cell_type": "markdown",
      "source": [
        "Solution: Refine \"gets\" part of the yards gained regex"
      ],
      "metadata": {
        "id": "rBholhqehP84"
      }
    },
    {
      "cell_type": "code",
      "source": [
        "    {\n",
        "        \"transcript\": \"punt which rolls off the side of the foot that takes a Baltimore bounce and is down at the 40yard line barber and canola behind Collins off\",\n",
        "        \"down\": \".\",\n",
        "        \"yrdln\": \"40\",\n",
        "        \"play_type\": \"punt\",\n",
        "        \"yards_gained\": \"40yard\"\n",
        "    }"
      ],
      "metadata": {
        "id": "VQTremhyhnbg"
      },
      "execution_count": null,
      "outputs": []
    },
    {
      "cell_type": "markdown",
      "source": [
        "Solution: Create a rule where punt and field goal leaves the yards_gained slot, down, empty"
      ],
      "metadata": {
        "id": "GklxVZHahofO"
      }
    },
    {
      "cell_type": "code",
      "source": [
        "    {\n",
        "        \"transcript\": \"first down vol Louis we will talk from time to time tonight about a vision if you're wondering what it is this is what it looks like well we'll give you some shots of as the game goes along watch Gary Collins he got a pass Russ quarterback he drops back look he's he's a big Lane look at that big Lane so he steps up into it knows he can't stand there too long because defensive lineman from behind they're gonna come after he picks up a few yards Collins looks on as Dilfer looks at a second at 11 now this way and slipping down to the turf is Jamal Lewis incomplete it'll be third in 11 well the one thing Trent Dilfer he has a very strong arm he can throw it down the field you know he's one of the top 10 players in the league and you say throw it down 15 yards or farther but his weakness short passes look at that Jamal Lewis is going to run four big yards Trent Dilfer with not very good touch on the football throws it short dopher one out of four for just four yards and faced with third and long here he needs the Giants 41 yard line movement right in the center of the line and let's see if the Giants jumped or if the Ravens move first encroachment 75 he pins five yards still\",\n",
        "        \"down\": \".\",\n",
        "        \"yrdln\": \"41\",\n",
        "        \"play_type\": \"pass\",\n",
        "        \"yards_gained\": \"picks up\"\n",
        "    },"
      ],
      "metadata": {
        "id": "3LDYhVNvibvN"
      },
      "execution_count": null,
      "outputs": []
    },
    {
      "cell_type": "markdown",
      "source": [
        "Problems: Lots of problem with this one..... line 45"
      ],
      "metadata": {
        "id": "p9Dm3wsjicYQ"
      }
    },
    {
      "cell_type": "code",
      "source": [
        "    {\n",
        "        \"transcript\": \"first down we expected defense to come to the floor this is the third threeandout well we can expect a lot of three announced today Greg and you saw marvin lewis the defensive coordinator again what happens is you just got to settle in and get used to how good the defense is make your adjustment and call plays that gives you a better chance to succeed Brad Maynard to kick it away to Jermaine Lewis bouncing autobahns just across midfield Lewis and gash in the backfield behind Trent Dilfer up\",\n",
        "        \"down\": \".\",\n",
        "        \"yrdln\": \".\",\n",
        "        \"play_type\": \"kick\",\n",
        "        \"yards_gained\": \".\"\n",
        "    },"
      ],
      "metadata": {
        "id": "90XYLgcIiv2h"
      },
      "execution_count": null,
      "outputs": []
    },
    {
      "cell_type": "markdown",
      "source": [
        "Problem: Add \"three and out\", \"threeandout\", \"three andout\", \"threeanout\", \"threean out\", threean out\","
      ],
      "metadata": {
        "id": "aw3JVahXiwiD"
      }
    }
  ]
}